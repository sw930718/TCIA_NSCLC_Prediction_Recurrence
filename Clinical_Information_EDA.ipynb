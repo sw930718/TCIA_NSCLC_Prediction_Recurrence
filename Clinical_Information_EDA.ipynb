{
 "cells": [
  {
   "cell_type": "code",
   "execution_count": 1,
   "metadata": {
    "ExecuteTime": {
     "end_time": "2021-08-16T16:10:40.647803Z",
     "start_time": "2021-08-16T16:10:38.619800Z"
    },
    "colab": {},
    "colab_type": "code",
    "id": "nNU4pviIcMyX"
   },
   "outputs": [],
   "source": [
    "import pandas as pd\n",
    "import numpy as np\n",
    "import matplotlib\n",
    "import matplotlib.pyplot as plt\n",
    "matplotlib.rcParams['axes.unicode_minus'] = False\n",
    "plt.rcParams[\"font.family\"] = 'Malgun Gothic'\n",
    "import seaborn as sns\n",
    "%matplotlib inline\n",
    "import warnings\n",
    "warnings.filterwarnings('ignore')"
   ]
  },
  {
   "cell_type": "markdown",
   "metadata": {},
   "source": [
    "# EDA"
   ]
  },
  {
   "cell_type": "markdown",
   "metadata": {
    "colab_type": "text",
    "id": "rBhsaGqGcMyd"
   },
   "source": [
    "## 1. 데이터 속성 및 기술통계량 확인"
   ]
  },
  {
   "cell_type": "code",
   "execution_count": 2,
   "metadata": {
    "ExecuteTime": {
     "end_time": "2021-08-16T16:10:40.693534Z",
     "start_time": "2021-08-16T16:10:40.650825Z"
    },
    "colab": {
     "base_uri": "https://localhost:8080/",
     "height": 204
    },
    "colab_type": "code",
    "executionInfo": {
     "elapsed": 629,
     "status": "ok",
     "timestamp": 1594481680903,
     "user": {
      "displayName": "이지현",
      "photoUrl": "",
      "userId": "05076428626224035015"
     },
     "user_tz": -540
    },
    "id": "S81ctmHicMye",
    "outputId": "26ef60a8-d35c-4da8-a336-3ceb137499c4"
   },
   "outputs": [
    {
     "data": {
      "text/html": [
       "<div>\n",
       "<style scoped>\n",
       "    .dataframe tbody tr th:only-of-type {\n",
       "        vertical-align: middle;\n",
       "    }\n",
       "\n",
       "    .dataframe tbody tr th {\n",
       "        vertical-align: top;\n",
       "    }\n",
       "\n",
       "    .dataframe thead th {\n",
       "        text-align: right;\n",
       "    }\n",
       "</style>\n",
       "<table border=\"1\" class=\"dataframe\">\n",
       "  <thead>\n",
       "    <tr style=\"text-align: right;\">\n",
       "      <th></th>\n",
       "      <th>PatientID</th>\n",
       "      <th>age</th>\n",
       "      <th>clinical.T.Stage</th>\n",
       "      <th>Clinical.N.Stage</th>\n",
       "      <th>Clinical.M.Stage</th>\n",
       "      <th>Overall.Stage</th>\n",
       "      <th>Histology</th>\n",
       "      <th>gender</th>\n",
       "      <th>Survival.time</th>\n",
       "      <th>deadstatus.event</th>\n",
       "    </tr>\n",
       "  </thead>\n",
       "  <tbody>\n",
       "    <tr>\n",
       "      <th>0</th>\n",
       "      <td>LUNG1-001</td>\n",
       "      <td>78.7515</td>\n",
       "      <td>2.0</td>\n",
       "      <td>3</td>\n",
       "      <td>0</td>\n",
       "      <td>IIIb</td>\n",
       "      <td>large cell</td>\n",
       "      <td>male</td>\n",
       "      <td>2165</td>\n",
       "      <td>1</td>\n",
       "    </tr>\n",
       "    <tr>\n",
       "      <th>1</th>\n",
       "      <td>LUNG1-002</td>\n",
       "      <td>83.8001</td>\n",
       "      <td>2.0</td>\n",
       "      <td>0</td>\n",
       "      <td>0</td>\n",
       "      <td>I</td>\n",
       "      <td>squamous cell carcinoma</td>\n",
       "      <td>male</td>\n",
       "      <td>155</td>\n",
       "      <td>1</td>\n",
       "    </tr>\n",
       "    <tr>\n",
       "      <th>2</th>\n",
       "      <td>LUNG1-003</td>\n",
       "      <td>68.1807</td>\n",
       "      <td>2.0</td>\n",
       "      <td>3</td>\n",
       "      <td>0</td>\n",
       "      <td>IIIb</td>\n",
       "      <td>large cell</td>\n",
       "      <td>male</td>\n",
       "      <td>256</td>\n",
       "      <td>1</td>\n",
       "    </tr>\n",
       "    <tr>\n",
       "      <th>3</th>\n",
       "      <td>LUNG1-004</td>\n",
       "      <td>70.8802</td>\n",
       "      <td>2.0</td>\n",
       "      <td>1</td>\n",
       "      <td>0</td>\n",
       "      <td>II</td>\n",
       "      <td>squamous cell carcinoma</td>\n",
       "      <td>male</td>\n",
       "      <td>141</td>\n",
       "      <td>1</td>\n",
       "    </tr>\n",
       "    <tr>\n",
       "      <th>4</th>\n",
       "      <td>LUNG1-005</td>\n",
       "      <td>80.4819</td>\n",
       "      <td>4.0</td>\n",
       "      <td>2</td>\n",
       "      <td>0</td>\n",
       "      <td>IIIb</td>\n",
       "      <td>squamous cell carcinoma</td>\n",
       "      <td>male</td>\n",
       "      <td>353</td>\n",
       "      <td>1</td>\n",
       "    </tr>\n",
       "  </tbody>\n",
       "</table>\n",
       "</div>"
      ],
      "text/plain": [
       "   PatientID      age  clinical.T.Stage  Clinical.N.Stage  Clinical.M.Stage  \\\n",
       "0  LUNG1-001  78.7515               2.0                 3                 0   \n",
       "1  LUNG1-002  83.8001               2.0                 0                 0   \n",
       "2  LUNG1-003  68.1807               2.0                 3                 0   \n",
       "3  LUNG1-004  70.8802               2.0                 1                 0   \n",
       "4  LUNG1-005  80.4819               4.0                 2                 0   \n",
       "\n",
       "  Overall.Stage                Histology gender  Survival.time  \\\n",
       "0          IIIb               large cell   male           2165   \n",
       "1             I  squamous cell carcinoma   male            155   \n",
       "2          IIIb               large cell   male            256   \n",
       "3            II  squamous cell carcinoma   male            141   \n",
       "4          IIIb  squamous cell carcinoma   male            353   \n",
       "\n",
       "   deadstatus.event  \n",
       "0                 1  \n",
       "1                 1  \n",
       "2                 1  \n",
       "3                 1  \n",
       "4                 1  "
      ]
     },
     "execution_count": 2,
     "metadata": {},
     "output_type": "execute_result"
    }
   ],
   "source": [
    "clinical_info_raw = pd.read_csv(\"NSCLC Radiomics Lung1.clinical-version3-Oct 2019.csv\")\n",
    "clinical_info = clinical_info_raw\n",
    "clinical_info.head()"
   ]
  },
  {
   "cell_type": "code",
   "execution_count": 3,
   "metadata": {
    "ExecuteTime": {
     "end_time": "2021-08-16T16:10:40.708722Z",
     "start_time": "2021-08-16T16:10:40.695622Z"
    },
    "colab": {},
    "colab_type": "code",
    "id": "N2rKkwmOZd3G",
    "outputId": "4e443c43-d1e8-4e8d-846e-9ab713ce3b77",
    "scrolled": false
   },
   "outputs": [
    {
     "data": {
      "text/plain": [
       "(422, 10)"
      ]
     },
     "execution_count": 3,
     "metadata": {},
     "output_type": "execute_result"
    }
   ],
   "source": [
    "clinical_info.shape"
   ]
  },
  {
   "cell_type": "markdown",
   "metadata": {
    "colab_type": "text",
    "id": "mSjadZ8GZd3K"
   },
   "source": [
    "자료 수는 422개고 변수는 10개다."
   ]
  },
  {
   "cell_type": "code",
   "execution_count": 4,
   "metadata": {
    "ExecuteTime": {
     "end_time": "2021-08-16T16:10:40.723896Z",
     "start_time": "2021-08-16T16:10:40.710775Z"
    }
   },
   "outputs": [
    {
     "data": {
      "text/plain": [
       "(422,)"
      ]
     },
     "execution_count": 4,
     "metadata": {},
     "output_type": "execute_result"
    }
   ],
   "source": [
    "clinical_info['PatientID'].unique().shape"
   ]
  },
  {
   "cell_type": "markdown",
   "metadata": {},
   "source": [
    "PatientID는 중복없이 422명의 환자로 확인되었다."
   ]
  },
  {
   "cell_type": "code",
   "execution_count": 5,
   "metadata": {
    "ExecuteTime": {
     "end_time": "2021-08-16T16:10:40.755022Z",
     "start_time": "2021-08-16T16:10:40.726449Z"
    }
   },
   "outputs": [
    {
     "data": {
      "text/html": [
       "<div>\n",
       "<style scoped>\n",
       "    .dataframe tbody tr th:only-of-type {\n",
       "        vertical-align: middle;\n",
       "    }\n",
       "\n",
       "    .dataframe tbody tr th {\n",
       "        vertical-align: top;\n",
       "    }\n",
       "\n",
       "    .dataframe thead th {\n",
       "        text-align: right;\n",
       "    }\n",
       "</style>\n",
       "<table border=\"1\" class=\"dataframe\">\n",
       "  <thead>\n",
       "    <tr style=\"text-align: right;\">\n",
       "      <th></th>\n",
       "      <th>PatientID</th>\n",
       "      <th>Survival.time</th>\n",
       "      <th>Survival.time(month)</th>\n",
       "      <th>recurrence</th>\n",
       "    </tr>\n",
       "  </thead>\n",
       "  <tbody>\n",
       "    <tr>\n",
       "      <th>0</th>\n",
       "      <td>LUNG1-004</td>\n",
       "      <td>141</td>\n",
       "      <td>5.0</td>\n",
       "      <td>1</td>\n",
       "    </tr>\n",
       "    <tr>\n",
       "      <th>1</th>\n",
       "      <td>LUNG1-005</td>\n",
       "      <td>353</td>\n",
       "      <td>12.0</td>\n",
       "      <td>1</td>\n",
       "    </tr>\n",
       "    <tr>\n",
       "      <th>2</th>\n",
       "      <td>LUNG1-006</td>\n",
       "      <td>173</td>\n",
       "      <td>6.0</td>\n",
       "      <td>1</td>\n",
       "    </tr>\n",
       "    <tr>\n",
       "      <th>3</th>\n",
       "      <td>LUNG1-007</td>\n",
       "      <td>137</td>\n",
       "      <td>5.0</td>\n",
       "      <td>1</td>\n",
       "    </tr>\n",
       "    <tr>\n",
       "      <th>4</th>\n",
       "      <td>LUNG1-008</td>\n",
       "      <td>77</td>\n",
       "      <td>3.0</td>\n",
       "      <td>1</td>\n",
       "    </tr>\n",
       "  </tbody>\n",
       "</table>\n",
       "</div>"
      ],
      "text/plain": [
       "   PatientID  Survival.time  Survival.time(month)  recurrence\n",
       "0  LUNG1-004            141                   5.0           1\n",
       "1  LUNG1-005            353                  12.0           1\n",
       "2  LUNG1-006            173                   6.0           1\n",
       "3  LUNG1-007            137                   5.0           1\n",
       "4  LUNG1-008             77                   3.0           1"
      ]
     },
     "execution_count": 5,
     "metadata": {},
     "output_type": "execute_result"
    }
   ],
   "source": [
    "label = pd.read_csv(\"label.csv\")\n",
    "label.head()"
   ]
  },
  {
   "cell_type": "code",
   "execution_count": 6,
   "metadata": {
    "ExecuteTime": {
     "end_time": "2021-08-16T16:10:40.770288Z",
     "start_time": "2021-08-16T16:10:40.758111Z"
    },
    "colab": {},
    "colab_type": "code",
    "id": "N2rKkwmOZd3G",
    "outputId": "4e443c43-d1e8-4e8d-846e-9ab713ce3b77",
    "scrolled": false
   },
   "outputs": [
    {
     "data": {
      "text/plain": [
       "(100, 4)"
      ]
     },
     "execution_count": 6,
     "metadata": {},
     "output_type": "execute_result"
    }
   ],
   "source": [
    "label.shape"
   ]
  },
  {
   "cell_type": "markdown",
   "metadata": {},
   "source": [
    "자료 수는 100개고 변수는 4개다."
   ]
  },
  {
   "cell_type": "code",
   "execution_count": 7,
   "metadata": {
    "ExecuteTime": {
     "end_time": "2021-08-16T16:10:40.800843Z",
     "start_time": "2021-08-16T16:10:40.773333Z"
    }
   },
   "outputs": [
    {
     "data": {
      "text/html": [
       "<div>\n",
       "<style scoped>\n",
       "    .dataframe tbody tr th:only-of-type {\n",
       "        vertical-align: middle;\n",
       "    }\n",
       "\n",
       "    .dataframe tbody tr th {\n",
       "        vertical-align: top;\n",
       "    }\n",
       "\n",
       "    .dataframe thead th {\n",
       "        text-align: right;\n",
       "    }\n",
       "</style>\n",
       "<table border=\"1\" class=\"dataframe\">\n",
       "  <thead>\n",
       "    <tr style=\"text-align: right;\">\n",
       "      <th></th>\n",
       "      <th>PatientID</th>\n",
       "      <th>age</th>\n",
       "      <th>clinical.T.Stage</th>\n",
       "      <th>Clinical.N.Stage</th>\n",
       "      <th>Clinical.M.Stage</th>\n",
       "      <th>Overall.Stage</th>\n",
       "      <th>Histology</th>\n",
       "      <th>gender</th>\n",
       "      <th>Survival.time</th>\n",
       "      <th>deadstatus.event</th>\n",
       "    </tr>\n",
       "  </thead>\n",
       "  <tbody>\n",
       "    <tr>\n",
       "      <th>3</th>\n",
       "      <td>LUNG1-004</td>\n",
       "      <td>70.8802</td>\n",
       "      <td>2.0</td>\n",
       "      <td>1</td>\n",
       "      <td>0</td>\n",
       "      <td>II</td>\n",
       "      <td>squamous cell carcinoma</td>\n",
       "      <td>male</td>\n",
       "      <td>141</td>\n",
       "      <td>1</td>\n",
       "    </tr>\n",
       "    <tr>\n",
       "      <th>4</th>\n",
       "      <td>LUNG1-005</td>\n",
       "      <td>80.4819</td>\n",
       "      <td>4.0</td>\n",
       "      <td>2</td>\n",
       "      <td>0</td>\n",
       "      <td>IIIb</td>\n",
       "      <td>squamous cell carcinoma</td>\n",
       "      <td>male</td>\n",
       "      <td>353</td>\n",
       "      <td>1</td>\n",
       "    </tr>\n",
       "    <tr>\n",
       "      <th>5</th>\n",
       "      <td>LUNG1-006</td>\n",
       "      <td>73.8864</td>\n",
       "      <td>3.0</td>\n",
       "      <td>1</td>\n",
       "      <td>0</td>\n",
       "      <td>IIIa</td>\n",
       "      <td>squamous cell carcinoma</td>\n",
       "      <td>male</td>\n",
       "      <td>173</td>\n",
       "      <td>1</td>\n",
       "    </tr>\n",
       "    <tr>\n",
       "      <th>6</th>\n",
       "      <td>LUNG1-007</td>\n",
       "      <td>81.5288</td>\n",
       "      <td>2.0</td>\n",
       "      <td>2</td>\n",
       "      <td>0</td>\n",
       "      <td>IIIa</td>\n",
       "      <td>squamous cell carcinoma</td>\n",
       "      <td>male</td>\n",
       "      <td>137</td>\n",
       "      <td>1</td>\n",
       "    </tr>\n",
       "    <tr>\n",
       "      <th>7</th>\n",
       "      <td>LUNG1-008</td>\n",
       "      <td>71.6660</td>\n",
       "      <td>2.0</td>\n",
       "      <td>2</td>\n",
       "      <td>0</td>\n",
       "      <td>IIIa</td>\n",
       "      <td>adenocarcinoma</td>\n",
       "      <td>male</td>\n",
       "      <td>77</td>\n",
       "      <td>1</td>\n",
       "    </tr>\n",
       "  </tbody>\n",
       "</table>\n",
       "</div>"
      ],
      "text/plain": [
       "   PatientID      age  clinical.T.Stage  Clinical.N.Stage  Clinical.M.Stage  \\\n",
       "3  LUNG1-004  70.8802               2.0                 1                 0   \n",
       "4  LUNG1-005  80.4819               4.0                 2                 0   \n",
       "5  LUNG1-006  73.8864               3.0                 1                 0   \n",
       "6  LUNG1-007  81.5288               2.0                 2                 0   \n",
       "7  LUNG1-008  71.6660               2.0                 2                 0   \n",
       "\n",
       "  Overall.Stage                Histology gender  Survival.time  \\\n",
       "3            II  squamous cell carcinoma   male            141   \n",
       "4          IIIb  squamous cell carcinoma   male            353   \n",
       "5          IIIa  squamous cell carcinoma   male            173   \n",
       "6          IIIa  squamous cell carcinoma   male            137   \n",
       "7          IIIa           adenocarcinoma   male             77   \n",
       "\n",
       "   deadstatus.event  \n",
       "3                 1  \n",
       "4                 1  \n",
       "5                 1  \n",
       "6                 1  \n",
       "7                 1  "
      ]
     },
     "execution_count": 7,
     "metadata": {},
     "output_type": "execute_result"
    }
   ],
   "source": [
    "clinical_info = clinical_info[clinical_info['PatientID'].isin(label['PatientID'].unique())]\n",
    "clinical_info.head()"
   ]
  },
  {
   "cell_type": "code",
   "execution_count": 8,
   "metadata": {
    "ExecuteTime": {
     "end_time": "2021-08-16T16:10:40.816104Z",
     "start_time": "2021-08-16T16:10:40.803028Z"
    }
   },
   "outputs": [
    {
     "data": {
      "text/html": [
       "<div>\n",
       "<style scoped>\n",
       "    .dataframe tbody tr th:only-of-type {\n",
       "        vertical-align: middle;\n",
       "    }\n",
       "\n",
       "    .dataframe tbody tr th {\n",
       "        vertical-align: top;\n",
       "    }\n",
       "\n",
       "    .dataframe thead th {\n",
       "        text-align: right;\n",
       "    }\n",
       "</style>\n",
       "<table border=\"1\" class=\"dataframe\">\n",
       "  <thead>\n",
       "    <tr style=\"text-align: right;\">\n",
       "      <th></th>\n",
       "      <th>PatientID</th>\n",
       "      <th>age</th>\n",
       "      <th>clinical.T.Stage</th>\n",
       "      <th>Clinical.N.Stage</th>\n",
       "      <th>Clinical.M.Stage</th>\n",
       "      <th>Overall.Stage</th>\n",
       "      <th>Histology</th>\n",
       "      <th>gender</th>\n",
       "      <th>Survival.time</th>\n",
       "      <th>deadstatus.event</th>\n",
       "    </tr>\n",
       "  </thead>\n",
       "  <tbody>\n",
       "    <tr>\n",
       "      <th>0</th>\n",
       "      <td>LUNG1-004</td>\n",
       "      <td>70.8802</td>\n",
       "      <td>2.0</td>\n",
       "      <td>1</td>\n",
       "      <td>0</td>\n",
       "      <td>II</td>\n",
       "      <td>squamous cell carcinoma</td>\n",
       "      <td>male</td>\n",
       "      <td>141</td>\n",
       "      <td>1</td>\n",
       "    </tr>\n",
       "    <tr>\n",
       "      <th>1</th>\n",
       "      <td>LUNG1-005</td>\n",
       "      <td>80.4819</td>\n",
       "      <td>4.0</td>\n",
       "      <td>2</td>\n",
       "      <td>0</td>\n",
       "      <td>IIIb</td>\n",
       "      <td>squamous cell carcinoma</td>\n",
       "      <td>male</td>\n",
       "      <td>353</td>\n",
       "      <td>1</td>\n",
       "    </tr>\n",
       "    <tr>\n",
       "      <th>2</th>\n",
       "      <td>LUNG1-006</td>\n",
       "      <td>73.8864</td>\n",
       "      <td>3.0</td>\n",
       "      <td>1</td>\n",
       "      <td>0</td>\n",
       "      <td>IIIa</td>\n",
       "      <td>squamous cell carcinoma</td>\n",
       "      <td>male</td>\n",
       "      <td>173</td>\n",
       "      <td>1</td>\n",
       "    </tr>\n",
       "    <tr>\n",
       "      <th>3</th>\n",
       "      <td>LUNG1-007</td>\n",
       "      <td>81.5288</td>\n",
       "      <td>2.0</td>\n",
       "      <td>2</td>\n",
       "      <td>0</td>\n",
       "      <td>IIIa</td>\n",
       "      <td>squamous cell carcinoma</td>\n",
       "      <td>male</td>\n",
       "      <td>137</td>\n",
       "      <td>1</td>\n",
       "    </tr>\n",
       "    <tr>\n",
       "      <th>4</th>\n",
       "      <td>LUNG1-008</td>\n",
       "      <td>71.6660</td>\n",
       "      <td>2.0</td>\n",
       "      <td>2</td>\n",
       "      <td>0</td>\n",
       "      <td>IIIa</td>\n",
       "      <td>adenocarcinoma</td>\n",
       "      <td>male</td>\n",
       "      <td>77</td>\n",
       "      <td>1</td>\n",
       "    </tr>\n",
       "  </tbody>\n",
       "</table>\n",
       "</div>"
      ],
      "text/plain": [
       "   PatientID      age  clinical.T.Stage  Clinical.N.Stage  Clinical.M.Stage  \\\n",
       "0  LUNG1-004  70.8802               2.0                 1                 0   \n",
       "1  LUNG1-005  80.4819               4.0                 2                 0   \n",
       "2  LUNG1-006  73.8864               3.0                 1                 0   \n",
       "3  LUNG1-007  81.5288               2.0                 2                 0   \n",
       "4  LUNG1-008  71.6660               2.0                 2                 0   \n",
       "\n",
       "  Overall.Stage                Histology gender  Survival.time  \\\n",
       "0            II  squamous cell carcinoma   male            141   \n",
       "1          IIIb  squamous cell carcinoma   male            353   \n",
       "2          IIIa  squamous cell carcinoma   male            173   \n",
       "3          IIIa  squamous cell carcinoma   male            137   \n",
       "4          IIIa           adenocarcinoma   male             77   \n",
       "\n",
       "   deadstatus.event  \n",
       "0                 1  \n",
       "1                 1  \n",
       "2                 1  \n",
       "3                 1  \n",
       "4                 1  "
      ]
     },
     "execution_count": 8,
     "metadata": {},
     "output_type": "execute_result"
    }
   ],
   "source": [
    "clinical_info.reset_index(drop=True, inplace=True)\n",
    "clinical_info.head()"
   ]
  },
  {
   "cell_type": "markdown",
   "metadata": {},
   "source": [
    "영상 데이터와 일치하는 PatientID만 분석할 예정이므로 기존 데이터를 가공했다."
   ]
  },
  {
   "cell_type": "code",
   "execution_count": 9,
   "metadata": {
    "ExecuteTime": {
     "end_time": "2021-08-16T16:10:40.831808Z",
     "start_time": "2021-08-16T16:10:40.818751Z"
    }
   },
   "outputs": [],
   "source": [
    "# clinical_info['PatientID'] = clinical_info['PatientID'].apply(lambda x: x[-3:])\n",
    "# clinical_info.head()"
   ]
  },
  {
   "cell_type": "markdown",
   "metadata": {
    "ExecuteTime": {
     "end_time": "2021-08-06T05:31:09.166720Z",
     "start_time": "2021-08-06T05:31:09.158365Z"
    },
    "colab_type": "text",
    "id": "VchuregwZd3P"
   },
   "source": [
    "PatientID는 모두 LUNG1으로 시작하기 때문에 ID만 남긴다."
   ]
  },
  {
   "cell_type": "code",
   "execution_count": 10,
   "metadata": {
    "ExecuteTime": {
     "end_time": "2021-08-16T16:10:40.846891Z",
     "start_time": "2021-08-16T16:10:40.833821Z"
    }
   },
   "outputs": [
    {
     "data": {
      "text/plain": [
       "(100, 10)"
      ]
     },
     "execution_count": 10,
     "metadata": {},
     "output_type": "execute_result"
    }
   ],
   "source": [
    "clinical_info.shape"
   ]
  },
  {
   "cell_type": "markdown",
   "metadata": {
    "ExecuteTime": {
     "end_time": "2021-07-26T08:31:49.154102Z",
     "start_time": "2021-07-26T08:31:49.129970Z"
    }
   },
   "source": [
    "자료 수는 100개고, 변수는 10개다."
   ]
  },
  {
   "cell_type": "code",
   "execution_count": 11,
   "metadata": {
    "ExecuteTime": {
     "end_time": "2021-08-16T16:10:40.878071Z",
     "start_time": "2021-08-16T16:10:40.848384Z"
    },
    "colab": {
     "base_uri": "https://localhost:8080/",
     "height": 374
    },
    "colab_type": "code",
    "executionInfo": {
     "elapsed": 461,
     "status": "ok",
     "timestamp": 1594481681216,
     "user": {
      "displayName": "이지현",
      "photoUrl": "",
      "userId": "05076428626224035015"
     },
     "user_tz": -540
    },
    "id": "9GEF1sbUcMyj",
    "outputId": "43376963-2cdf-429f-c03e-b384e091179a"
   },
   "outputs": [
    {
     "name": "stdout",
     "output_type": "stream",
     "text": [
      "<class 'pandas.core.frame.DataFrame'>\n",
      "RangeIndex: 100 entries, 0 to 99\n",
      "Data columns (total 10 columns):\n",
      " #   Column            Non-Null Count  Dtype  \n",
      "---  ------            --------------  -----  \n",
      " 0   PatientID         100 non-null    object \n",
      " 1   age               100 non-null    float64\n",
      " 2   clinical.T.Stage  100 non-null    float64\n",
      " 3   Clinical.N.Stage  100 non-null    int64  \n",
      " 4   Clinical.M.Stage  100 non-null    int64  \n",
      " 5   Overall.Stage     100 non-null    object \n",
      " 6   Histology         100 non-null    object \n",
      " 7   gender            100 non-null    object \n",
      " 8   Survival.time     100 non-null    int64  \n",
      " 9   deadstatus.event  100 non-null    int64  \n",
      "dtypes: float64(2), int64(4), object(4)\n",
      "memory usage: 7.9+ KB\n"
     ]
    }
   ],
   "source": [
    "clinical_info.info()"
   ]
  },
  {
   "cell_type": "code",
   "execution_count": 12,
   "metadata": {
    "ExecuteTime": {
     "end_time": "2021-08-16T16:10:40.893800Z",
     "start_time": "2021-08-16T16:10:40.880621Z"
    }
   },
   "outputs": [
    {
     "data": {
      "text/plain": [
       "(100,)"
      ]
     },
     "execution_count": 12,
     "metadata": {},
     "output_type": "execute_result"
    }
   ],
   "source": [
    "clinical_info['PatientID'].unique().shape"
   ]
  },
  {
   "cell_type": "markdown",
   "metadata": {},
   "source": [
    "PatientID는 중복없이 100명의 환자로 확인되었다."
   ]
  },
  {
   "cell_type": "code",
   "execution_count": 13,
   "metadata": {
    "ExecuteTime": {
     "end_time": "2021-08-16T16:10:40.908720Z",
     "start_time": "2021-08-16T16:10:40.896536Z"
    },
    "scrolled": true
   },
   "outputs": [
    {
     "data": {
      "text/plain": [
       "dtype('int32')"
      ]
     },
     "execution_count": 13,
     "metadata": {},
     "output_type": "execute_result"
    }
   ],
   "source": [
    "clinical_info['age'] = clinical_info['age'].astype(int)\n",
    "clinical_info['age'].dtypes"
   ]
  },
  {
   "cell_type": "code",
   "execution_count": 14,
   "metadata": {
    "ExecuteTime": {
     "end_time": "2021-08-16T16:10:40.924000Z",
     "start_time": "2021-08-16T16:10:40.910783Z"
    },
    "scrolled": true
   },
   "outputs": [
    {
     "data": {
      "text/plain": [
       "dtype('int32')"
      ]
     },
     "execution_count": 14,
     "metadata": {},
     "output_type": "execute_result"
    }
   ],
   "source": [
    "clinical_info['clinical.T.Stage'] = clinical_info['clinical.T.Stage'].astype(int)\n",
    "clinical_info['clinical.T.Stage'].dtypes"
   ]
  },
  {
   "cell_type": "markdown",
   "metadata": {},
   "source": [
    "age와 clinical.T.Stage는 실제로 int형인데 float형으로 되어 있으므로 int형으로 바꾼다."
   ]
  },
  {
   "cell_type": "code",
   "execution_count": 15,
   "metadata": {
    "ExecuteTime": {
     "end_time": "2021-08-16T16:10:40.953718Z",
     "start_time": "2021-08-16T16:10:40.926028Z"
    },
    "colab": {
     "base_uri": "https://localhost:8080/",
     "height": 374
    },
    "colab_type": "code",
    "executionInfo": {
     "elapsed": 461,
     "status": "ok",
     "timestamp": 1594481681216,
     "user": {
      "displayName": "이지현",
      "photoUrl": "",
      "userId": "05076428626224035015"
     },
     "user_tz": -540
    },
    "id": "9GEF1sbUcMyj",
    "outputId": "43376963-2cdf-429f-c03e-b384e091179a",
    "scrolled": true
   },
   "outputs": [
    {
     "name": "stdout",
     "output_type": "stream",
     "text": [
      "<class 'pandas.core.frame.DataFrame'>\n",
      "RangeIndex: 100 entries, 0 to 99\n",
      "Data columns (total 10 columns):\n",
      " #   Column            Non-Null Count  Dtype \n",
      "---  ------            --------------  ----- \n",
      " 0   PatientID         100 non-null    object\n",
      " 1   age               100 non-null    int32 \n",
      " 2   clinical.T.Stage  100 non-null    int32 \n",
      " 3   Clinical.N.Stage  100 non-null    int64 \n",
      " 4   Clinical.M.Stage  100 non-null    int64 \n",
      " 5   Overall.Stage     100 non-null    object\n",
      " 6   Histology         100 non-null    object\n",
      " 7   gender            100 non-null    object\n",
      " 8   Survival.time     100 non-null    int64 \n",
      " 9   deadstatus.event  100 non-null    int64 \n",
      "dtypes: int32(2), int64(4), object(4)\n",
      "memory usage: 7.2+ KB\n"
     ]
    }
   ],
   "source": [
    "clinical_info.info()"
   ]
  },
  {
   "cell_type": "code",
   "execution_count": 16,
   "metadata": {
    "ExecuteTime": {
     "end_time": "2021-08-16T16:10:40.968922Z",
     "start_time": "2021-08-16T16:10:40.955717Z"
    },
    "scrolled": true
   },
   "outputs": [],
   "source": [
    "clinical_info['clinical.T.Stage'] = clinical_info['clinical.T.Stage'].astype(str)\n",
    "clinical_info['Clinical.N.Stage'] = clinical_info['Clinical.N.Stage'].astype(str)\n",
    "clinical_info['Clinical.M.Stage'] = clinical_info['Clinical.M.Stage'].astype(str)"
   ]
  },
  {
   "cell_type": "markdown",
   "metadata": {},
   "source": [
    "clinical.T.Stage, Clinical.N.Stage, Clinical.M.Stage는 TNM 분류 체계를 뜻하는 순서형 데이터로 범주형 변수인데 수치형으로 되어 있으므로 범주형으로 변환해준다."
   ]
  },
  {
   "cell_type": "code",
   "execution_count": 17,
   "metadata": {
    "ExecuteTime": {
     "end_time": "2021-08-16T16:10:40.984628Z",
     "start_time": "2021-08-16T16:10:40.970495Z"
    }
   },
   "outputs": [
    {
     "name": "stdout",
     "output_type": "stream",
     "text": [
      "<class 'pandas.core.frame.DataFrame'>\n",
      "RangeIndex: 100 entries, 0 to 99\n",
      "Data columns (total 10 columns):\n",
      " #   Column            Non-Null Count  Dtype \n",
      "---  ------            --------------  ----- \n",
      " 0   PatientID         100 non-null    object\n",
      " 1   age               100 non-null    int32 \n",
      " 2   clinical.T.Stage  100 non-null    object\n",
      " 3   Clinical.N.Stage  100 non-null    object\n",
      " 4   Clinical.M.Stage  100 non-null    object\n",
      " 5   Overall.Stage     100 non-null    object\n",
      " 6   Histology         100 non-null    object\n",
      " 7   gender            100 non-null    object\n",
      " 8   Survival.time     100 non-null    int64 \n",
      " 9   deadstatus.event  100 non-null    int64 \n",
      "dtypes: int32(1), int64(2), object(7)\n",
      "memory usage: 7.5+ KB\n"
     ]
    }
   ],
   "source": [
    "clinical_info.info()"
   ]
  },
  {
   "cell_type": "code",
   "execution_count": 18,
   "metadata": {
    "ExecuteTime": {
     "end_time": "2021-08-16T16:10:41.000317Z",
     "start_time": "2021-08-16T16:10:40.986192Z"
    }
   },
   "outputs": [
    {
     "data": {
      "text/plain": [
       "array(['dead', 'survived'], dtype=object)"
      ]
     },
     "execution_count": 18,
     "metadata": {},
     "output_type": "execute_result"
    }
   ],
   "source": [
    "clinical_info['deadstatus.event'].replace(1, \"dead\", inplace=True)\n",
    "clinical_info['deadstatus.event'].replace(0, \"survived\", inplace=True)\n",
    "clinical_info['deadstatus.event'].unique()"
   ]
  },
  {
   "cell_type": "markdown",
   "metadata": {},
   "source": [
    "deadstatus.event는 환자 사망 시 1, 생존 시 0인 범주형 변수인데 수치형으로 되어 있으므로 범주형으로 변환해준다."
   ]
  },
  {
   "cell_type": "code",
   "execution_count": 19,
   "metadata": {
    "ExecuteTime": {
     "end_time": "2021-08-16T16:10:41.031146Z",
     "start_time": "2021-08-16T16:10:41.001698Z"
    }
   },
   "outputs": [
    {
     "data": {
      "text/html": [
       "<div>\n",
       "<style scoped>\n",
       "    .dataframe tbody tr th:only-of-type {\n",
       "        vertical-align: middle;\n",
       "    }\n",
       "\n",
       "    .dataframe tbody tr th {\n",
       "        vertical-align: top;\n",
       "    }\n",
       "\n",
       "    .dataframe thead th {\n",
       "        text-align: right;\n",
       "    }\n",
       "</style>\n",
       "<table border=\"1\" class=\"dataframe\">\n",
       "  <thead>\n",
       "    <tr style=\"text-align: right;\">\n",
       "      <th></th>\n",
       "      <th>PatientID</th>\n",
       "      <th>age</th>\n",
       "      <th>clinical.T.Stage</th>\n",
       "      <th>Clinical.N.Stage</th>\n",
       "      <th>Clinical.M.Stage</th>\n",
       "      <th>Overall.Stage</th>\n",
       "      <th>Histology</th>\n",
       "      <th>gender</th>\n",
       "      <th>Survival.time</th>\n",
       "      <th>deadstatus.event</th>\n",
       "    </tr>\n",
       "  </thead>\n",
       "  <tbody>\n",
       "    <tr>\n",
       "      <th>0</th>\n",
       "      <td>LUNG1-004</td>\n",
       "      <td>70</td>\n",
       "      <td>2</td>\n",
       "      <td>1</td>\n",
       "      <td>0</td>\n",
       "      <td>II</td>\n",
       "      <td>squamous cell carcinoma</td>\n",
       "      <td>male</td>\n",
       "      <td>141</td>\n",
       "      <td>dead</td>\n",
       "    </tr>\n",
       "    <tr>\n",
       "      <th>1</th>\n",
       "      <td>LUNG1-005</td>\n",
       "      <td>80</td>\n",
       "      <td>4</td>\n",
       "      <td>2</td>\n",
       "      <td>0</td>\n",
       "      <td>IIIb</td>\n",
       "      <td>squamous cell carcinoma</td>\n",
       "      <td>male</td>\n",
       "      <td>353</td>\n",
       "      <td>dead</td>\n",
       "    </tr>\n",
       "    <tr>\n",
       "      <th>2</th>\n",
       "      <td>LUNG1-006</td>\n",
       "      <td>73</td>\n",
       "      <td>3</td>\n",
       "      <td>1</td>\n",
       "      <td>0</td>\n",
       "      <td>IIIa</td>\n",
       "      <td>squamous cell carcinoma</td>\n",
       "      <td>male</td>\n",
       "      <td>173</td>\n",
       "      <td>dead</td>\n",
       "    </tr>\n",
       "    <tr>\n",
       "      <th>3</th>\n",
       "      <td>LUNG1-007</td>\n",
       "      <td>81</td>\n",
       "      <td>2</td>\n",
       "      <td>2</td>\n",
       "      <td>0</td>\n",
       "      <td>IIIa</td>\n",
       "      <td>squamous cell carcinoma</td>\n",
       "      <td>male</td>\n",
       "      <td>137</td>\n",
       "      <td>dead</td>\n",
       "    </tr>\n",
       "    <tr>\n",
       "      <th>4</th>\n",
       "      <td>LUNG1-008</td>\n",
       "      <td>71</td>\n",
       "      <td>2</td>\n",
       "      <td>2</td>\n",
       "      <td>0</td>\n",
       "      <td>IIIa</td>\n",
       "      <td>adenocarcinoma</td>\n",
       "      <td>male</td>\n",
       "      <td>77</td>\n",
       "      <td>dead</td>\n",
       "    </tr>\n",
       "  </tbody>\n",
       "</table>\n",
       "</div>"
      ],
      "text/plain": [
       "   PatientID  age clinical.T.Stage Clinical.N.Stage Clinical.M.Stage  \\\n",
       "0  LUNG1-004   70                2                1                0   \n",
       "1  LUNG1-005   80                4                2                0   \n",
       "2  LUNG1-006   73                3                1                0   \n",
       "3  LUNG1-007   81                2                2                0   \n",
       "4  LUNG1-008   71                2                2                0   \n",
       "\n",
       "  Overall.Stage                Histology gender  Survival.time  \\\n",
       "0            II  squamous cell carcinoma   male            141   \n",
       "1          IIIb  squamous cell carcinoma   male            353   \n",
       "2          IIIa  squamous cell carcinoma   male            173   \n",
       "3          IIIa  squamous cell carcinoma   male            137   \n",
       "4          IIIa           adenocarcinoma   male             77   \n",
       "\n",
       "  deadstatus.event  \n",
       "0             dead  \n",
       "1             dead  \n",
       "2             dead  \n",
       "3             dead  \n",
       "4             dead  "
      ]
     },
     "execution_count": 19,
     "metadata": {},
     "output_type": "execute_result"
    }
   ],
   "source": [
    "clinical_info.head()"
   ]
  },
  {
   "cell_type": "code",
   "execution_count": 20,
   "metadata": {
    "ExecuteTime": {
     "end_time": "2021-08-16T16:10:41.061548Z",
     "start_time": "2021-08-16T16:10:41.033313Z"
    },
    "colab": {
     "base_uri": "https://localhost:8080/",
     "height": 374
    },
    "colab_type": "code",
    "executionInfo": {
     "elapsed": 461,
     "status": "ok",
     "timestamp": 1594481681216,
     "user": {
      "displayName": "이지현",
      "photoUrl": "",
      "userId": "05076428626224035015"
     },
     "user_tz": -540
    },
    "id": "9GEF1sbUcMyj",
    "outputId": "43376963-2cdf-429f-c03e-b384e091179a"
   },
   "outputs": [
    {
     "name": "stdout",
     "output_type": "stream",
     "text": [
      "<class 'pandas.core.frame.DataFrame'>\n",
      "RangeIndex: 100 entries, 0 to 99\n",
      "Data columns (total 10 columns):\n",
      " #   Column            Non-Null Count  Dtype \n",
      "---  ------            --------------  ----- \n",
      " 0   PatientID         100 non-null    object\n",
      " 1   age               100 non-null    int32 \n",
      " 2   clinical.T.Stage  100 non-null    object\n",
      " 3   Clinical.N.Stage  100 non-null    object\n",
      " 4   Clinical.M.Stage  100 non-null    object\n",
      " 5   Overall.Stage     100 non-null    object\n",
      " 6   Histology         100 non-null    object\n",
      " 7   gender            100 non-null    object\n",
      " 8   Survival.time     100 non-null    int64 \n",
      " 9   deadstatus.event  100 non-null    object\n",
      "dtypes: int32(1), int64(1), object(8)\n",
      "memory usage: 7.5+ KB\n"
     ]
    }
   ],
   "source": [
    "clinical_info.info()"
   ]
  },
  {
   "cell_type": "markdown",
   "metadata": {
    "ExecuteTime": {
     "end_time": "2021-07-26T08:31:49.154102Z",
     "start_time": "2021-07-26T08:31:49.129970Z"
    }
   },
   "source": [
    "범주형 변수\n",
    "- PatientID\n",
    "- clinical.T.Stage\n",
    "- Clinical.N.Stage\n",
    "- Clinical.M.Stage\n",
    "- Overall.Stage\n",
    "- Histology\n",
    "- gender\n",
    "- deadstatus.event\n",
    "\n",
    "수치형 변수\n",
    "- age\n",
    "- Survival.time"
   ]
  },
  {
   "cell_type": "code",
   "execution_count": 21,
   "metadata": {
    "ExecuteTime": {
     "end_time": "2021-08-16T16:10:41.092694Z",
     "start_time": "2021-08-16T16:10:41.062897Z"
    },
    "colab": {
     "base_uri": "https://localhost:8080/",
     "height": 297
    },
    "colab_type": "code",
    "executionInfo": {
     "elapsed": 750,
     "status": "ok",
     "timestamp": 1594481681932,
     "user": {
      "displayName": "이지현",
      "photoUrl": "",
      "userId": "05076428626224035015"
     },
     "user_tz": -540
    },
    "id": "wvv70BcycMyn",
    "outputId": "d0118e3a-38a2-493e-b6e6-a0383e0d6ad7",
    "scrolled": true
   },
   "outputs": [
    {
     "data": {
      "text/html": [
       "<div>\n",
       "<style scoped>\n",
       "    .dataframe tbody tr th:only-of-type {\n",
       "        vertical-align: middle;\n",
       "    }\n",
       "\n",
       "    .dataframe tbody tr th {\n",
       "        vertical-align: top;\n",
       "    }\n",
       "\n",
       "    .dataframe thead th {\n",
       "        text-align: right;\n",
       "    }\n",
       "</style>\n",
       "<table border=\"1\" class=\"dataframe\">\n",
       "  <thead>\n",
       "    <tr style=\"text-align: right;\">\n",
       "      <th></th>\n",
       "      <th>age</th>\n",
       "      <th>Survival.time</th>\n",
       "    </tr>\n",
       "  </thead>\n",
       "  <tbody>\n",
       "    <tr>\n",
       "      <th>count</th>\n",
       "      <td>100.00</td>\n",
       "      <td>100.00</td>\n",
       "    </tr>\n",
       "    <tr>\n",
       "      <th>mean</th>\n",
       "      <td>68.78</td>\n",
       "      <td>837.44</td>\n",
       "    </tr>\n",
       "    <tr>\n",
       "      <th>std</th>\n",
       "      <td>10.00</td>\n",
       "      <td>968.24</td>\n",
       "    </tr>\n",
       "    <tr>\n",
       "      <th>min</th>\n",
       "      <td>45.00</td>\n",
       "      <td>25.00</td>\n",
       "    </tr>\n",
       "    <tr>\n",
       "      <th>25%</th>\n",
       "      <td>62.00</td>\n",
       "      <td>191.25</td>\n",
       "    </tr>\n",
       "    <tr>\n",
       "      <th>50%</th>\n",
       "      <td>69.50</td>\n",
       "      <td>472.00</td>\n",
       "    </tr>\n",
       "    <tr>\n",
       "      <th>75%</th>\n",
       "      <td>77.00</td>\n",
       "      <td>1071.50</td>\n",
       "    </tr>\n",
       "    <tr>\n",
       "      <th>max</th>\n",
       "      <td>87.00</td>\n",
       "      <td>4202.00</td>\n",
       "    </tr>\n",
       "  </tbody>\n",
       "</table>\n",
       "</div>"
      ],
      "text/plain": [
       "          age  Survival.time\n",
       "count  100.00         100.00\n",
       "mean    68.78         837.44\n",
       "std     10.00         968.24\n",
       "min     45.00          25.00\n",
       "25%     62.00         191.25\n",
       "50%     69.50         472.00\n",
       "75%     77.00        1071.50\n",
       "max     87.00        4202.00"
      ]
     },
     "execution_count": 21,
     "metadata": {},
     "output_type": "execute_result"
    }
   ],
   "source": [
    "clinical_info.describe().round(2)"
   ]
  },
  {
   "cell_type": "markdown",
   "metadata": {
    "colab_type": "text",
    "id": "cQ5hw9nUcMyr"
   },
   "source": [
    "## 2. 목표변수와 설명변수 설정"
   ]
  },
  {
   "cell_type": "markdown",
   "metadata": {},
   "source": [
    "### 목표변수"
   ]
  },
  {
   "cell_type": "markdown",
   "metadata": {},
   "source": [
    "#### Survival.time"
   ]
  },
  {
   "cell_type": "code",
   "execution_count": 22,
   "metadata": {
    "ExecuteTime": {
     "end_time": "2021-08-16T16:10:41.108405Z",
     "start_time": "2021-08-16T16:10:41.099309Z"
    }
   },
   "outputs": [
    {
     "data": {
      "text/plain": [
       "count     100.00000\n",
       "mean      837.44000\n",
       "std       968.24198\n",
       "min        25.00000\n",
       "25%       191.25000\n",
       "50%       472.00000\n",
       "75%      1071.50000\n",
       "max      4202.00000\n",
       "Name: Survival.time, dtype: float64"
      ]
     },
     "execution_count": 22,
     "metadata": {},
     "output_type": "execute_result"
    }
   ],
   "source": [
    "clinical_info[\"Survival.time\"].describe()"
   ]
  },
  {
   "cell_type": "code",
   "execution_count": 23,
   "metadata": {
    "ExecuteTime": {
     "end_time": "2021-08-16T16:10:41.402669Z",
     "start_time": "2021-08-16T16:10:41.112972Z"
    }
   },
   "outputs": [
    {
     "data": {
      "text/plain": [
       "<AxesSubplot:xlabel='Survival.time', ylabel='Density'>"
      ]
     },
     "execution_count": 23,
     "metadata": {},
     "output_type": "execute_result"
    },
    {
     "data": {
      "image/png": "[encoded data removed]",
      "text/plain": [
       "<Figure size 432x288 with 1 Axes>"
      ]
     },
     "metadata": {
      "needs_background": "light"
     },
     "output_type": "display_data"
    }
   ],
   "source": [
    "sns.distplot(clinical_info[\"Survival.time\"], kde=True)"
   ]
  },
  {
   "cell_type": "markdown",
   "metadata": {},
   "source": [
    "이렇게 보면 잘 모르겠으니 Survival.time이 몇년인지 새로 열을 만든다."
   ]
  },
  {
   "cell_type": "code",
   "execution_count": 24,
   "metadata": {
    "ExecuteTime": {
     "end_time": "2021-08-16T16:10:41.433987Z",
     "start_time": "2021-08-16T16:10:41.404195Z"
    },
    "scrolled": false
   },
   "outputs": [
    {
     "data": {
      "text/html": [
       "<div>\n",
       "<style scoped>\n",
       "    .dataframe tbody tr th:only-of-type {\n",
       "        vertical-align: middle;\n",
       "    }\n",
       "\n",
       "    .dataframe tbody tr th {\n",
       "        vertical-align: top;\n",
       "    }\n",
       "\n",
       "    .dataframe thead th {\n",
       "        text-align: right;\n",
       "    }\n",
       "</style>\n",
       "<table border=\"1\" class=\"dataframe\">\n",
       "  <thead>\n",
       "    <tr style=\"text-align: right;\">\n",
       "      <th></th>\n",
       "      <th>PatientID</th>\n",
       "      <th>age</th>\n",
       "      <th>clinical.T.Stage</th>\n",
       "      <th>Clinical.N.Stage</th>\n",
       "      <th>Clinical.M.Stage</th>\n",
       "      <th>Overall.Stage</th>\n",
       "      <th>Histology</th>\n",
       "      <th>gender</th>\n",
       "      <th>Survival.time</th>\n",
       "      <th>deadstatus.event</th>\n",
       "      <th>Survival.time(year)</th>\n",
       "    </tr>\n",
       "  </thead>\n",
       "  <tbody>\n",
       "    <tr>\n",
       "      <th>0</th>\n",
       "      <td>LUNG1-004</td>\n",
       "      <td>70</td>\n",
       "      <td>2</td>\n",
       "      <td>1</td>\n",
       "      <td>0</td>\n",
       "      <td>II</td>\n",
       "      <td>squamous cell carcinoma</td>\n",
       "      <td>male</td>\n",
       "      <td>141</td>\n",
       "      <td>dead</td>\n",
       "      <td>0</td>\n",
       "    </tr>\n",
       "    <tr>\n",
       "      <th>1</th>\n",
       "      <td>LUNG1-005</td>\n",
       "      <td>80</td>\n",
       "      <td>4</td>\n",
       "      <td>2</td>\n",
       "      <td>0</td>\n",
       "      <td>IIIb</td>\n",
       "      <td>squamous cell carcinoma</td>\n",
       "      <td>male</td>\n",
       "      <td>353</td>\n",
       "      <td>dead</td>\n",
       "      <td>0</td>\n",
       "    </tr>\n",
       "    <tr>\n",
       "      <th>2</th>\n",
       "      <td>LUNG1-006</td>\n",
       "      <td>73</td>\n",
       "      <td>3</td>\n",
       "      <td>1</td>\n",
       "      <td>0</td>\n",
       "      <td>IIIa</td>\n",
       "      <td>squamous cell carcinoma</td>\n",
       "      <td>male</td>\n",
       "      <td>173</td>\n",
       "      <td>dead</td>\n",
       "      <td>0</td>\n",
       "    </tr>\n",
       "    <tr>\n",
       "      <th>3</th>\n",
       "      <td>LUNG1-007</td>\n",
       "      <td>81</td>\n",
       "      <td>2</td>\n",
       "      <td>2</td>\n",
       "      <td>0</td>\n",
       "      <td>IIIa</td>\n",
       "      <td>squamous cell carcinoma</td>\n",
       "      <td>male</td>\n",
       "      <td>137</td>\n",
       "      <td>dead</td>\n",
       "      <td>0</td>\n",
       "    </tr>\n",
       "    <tr>\n",
       "      <th>4</th>\n",
       "      <td>LUNG1-008</td>\n",
       "      <td>71</td>\n",
       "      <td>2</td>\n",
       "      <td>2</td>\n",
       "      <td>0</td>\n",
       "      <td>IIIa</td>\n",
       "      <td>adenocarcinoma</td>\n",
       "      <td>male</td>\n",
       "      <td>77</td>\n",
       "      <td>dead</td>\n",
       "      <td>0</td>\n",
       "    </tr>\n",
       "    <tr>\n",
       "      <th>5</th>\n",
       "      <td>LUNG1-009</td>\n",
       "      <td>56</td>\n",
       "      <td>2</td>\n",
       "      <td>2</td>\n",
       "      <td>0</td>\n",
       "      <td>IIIa</td>\n",
       "      <td>squamous cell carcinoma</td>\n",
       "      <td>male</td>\n",
       "      <td>131</td>\n",
       "      <td>dead</td>\n",
       "      <td>0</td>\n",
       "    </tr>\n",
       "    <tr>\n",
       "      <th>6</th>\n",
       "      <td>LUNG1-011</td>\n",
       "      <td>64</td>\n",
       "      <td>4</td>\n",
       "      <td>0</td>\n",
       "      <td>0</td>\n",
       "      <td>IIIb</td>\n",
       "      <td>squamous cell carcinoma</td>\n",
       "      <td>male</td>\n",
       "      <td>515</td>\n",
       "      <td>dead</td>\n",
       "      <td>1</td>\n",
       "    </tr>\n",
       "    <tr>\n",
       "      <th>7</th>\n",
       "      <td>LUNG1-012</td>\n",
       "      <td>71</td>\n",
       "      <td>3</td>\n",
       "      <td>2</td>\n",
       "      <td>0</td>\n",
       "      <td>IIIa</td>\n",
       "      <td>squamous cell carcinoma</td>\n",
       "      <td>male</td>\n",
       "      <td>85</td>\n",
       "      <td>dead</td>\n",
       "      <td>0</td>\n",
       "    </tr>\n",
       "    <tr>\n",
       "      <th>8</th>\n",
       "      <td>LUNG1-014</td>\n",
       "      <td>66</td>\n",
       "      <td>4</td>\n",
       "      <td>0</td>\n",
       "      <td>0</td>\n",
       "      <td>IIIb</td>\n",
       "      <td>squamous cell carcinoma</td>\n",
       "      <td>male</td>\n",
       "      <td>1247</td>\n",
       "      <td>dead</td>\n",
       "      <td>3</td>\n",
       "    </tr>\n",
       "    <tr>\n",
       "      <th>9</th>\n",
       "      <td>LUNG1-018</td>\n",
       "      <td>82</td>\n",
       "      <td>2</td>\n",
       "      <td>1</td>\n",
       "      <td>0</td>\n",
       "      <td>II</td>\n",
       "      <td>squamous cell carcinoma</td>\n",
       "      <td>male</td>\n",
       "      <td>1926</td>\n",
       "      <td>dead</td>\n",
       "      <td>5</td>\n",
       "    </tr>\n",
       "  </tbody>\n",
       "</table>\n",
       "</div>"
      ],
      "text/plain": [
       "   PatientID  age clinical.T.Stage Clinical.N.Stage Clinical.M.Stage  \\\n",
       "0  LUNG1-004   70                2                1                0   \n",
       "1  LUNG1-005   80                4                2                0   \n",
       "2  LUNG1-006   73                3                1                0   \n",
       "3  LUNG1-007   81                2                2                0   \n",
       "4  LUNG1-008   71                2                2                0   \n",
       "5  LUNG1-009   56                2                2                0   \n",
       "6  LUNG1-011   64                4                0                0   \n",
       "7  LUNG1-012   71                3                2                0   \n",
       "8  LUNG1-014   66                4                0                0   \n",
       "9  LUNG1-018   82                2                1                0   \n",
       "\n",
       "  Overall.Stage                Histology gender  Survival.time  \\\n",
       "0            II  squamous cell carcinoma   male            141   \n",
       "1          IIIb  squamous cell carcinoma   male            353   \n",
       "2          IIIa  squamous cell carcinoma   male            173   \n",
       "3          IIIa  squamous cell carcinoma   male            137   \n",
       "4          IIIa           adenocarcinoma   male             77   \n",
       "5          IIIa  squamous cell carcinoma   male            131   \n",
       "6          IIIb  squamous cell carcinoma   male            515   \n",
       "7          IIIa  squamous cell carcinoma   male             85   \n",
       "8          IIIb  squamous cell carcinoma   male           1247   \n",
       "9            II  squamous cell carcinoma   male           1926   \n",
       "\n",
       "  deadstatus.event  Survival.time(year)  \n",
       "0             dead                    0  \n",
       "1             dead                    0  \n",
       "2             dead                    0  \n",
       "3             dead                    0  \n",
       "4             dead                    0  \n",
       "5             dead                    0  \n",
       "6             dead                    1  \n",
       "7             dead                    0  \n",
       "8             dead                    3  \n",
       "9             dead                    5  "
      ]
     },
     "execution_count": 24,
     "metadata": {},
     "output_type": "execute_result"
    }
   ],
   "source": [
    "clinical_info[\"Survival.time(year)\"] = clinical_info[\"Survival.time\"] // 365\n",
    "clinical_info.head(10)"
   ]
  },
  {
   "cell_type": "code",
   "execution_count": 25,
   "metadata": {
    "ExecuteTime": {
     "end_time": "2021-08-16T16:10:41.649225Z",
     "start_time": "2021-08-16T16:10:41.436438Z"
    }
   },
   "outputs": [
    {
     "data": {
      "text/plain": [
       "<AxesSubplot:xlabel='Survival.time(year)', ylabel='Density'>"
      ]
     },
     "execution_count": 25,
     "metadata": {},
     "output_type": "execute_result"
    },
    {
     "data": {
      "image/png": "[encoded data removed]",
      "text/plain": [
       "<Figure size 432x288 with 1 Axes>"
      ]
     },
     "metadata": {
      "needs_background": "light"
     },
     "output_type": "display_data"
    }
   ],
   "source": [
    "sns.distplot(clinical_info[\"Survival.time(year)\"], kde=True)"
   ]
  },
  {
   "cell_type": "markdown",
   "metadata": {},
   "source": [
    "Survival.time(year)의 분포를 보니 2년 내 생존이 데이터의 대부분을 차지하기 때문에 two-year survival을 예측하기로 한다."
   ]
  },
  {
   "cell_type": "markdown",
   "metadata": {},
   "source": [
    "#### deadstatus.event"
   ]
  },
  {
   "cell_type": "code",
   "execution_count": 26,
   "metadata": {
    "ExecuteTime": {
     "end_time": "2021-08-16T16:10:41.664867Z",
     "start_time": "2021-08-16T16:10:41.650766Z"
    }
   },
   "outputs": [
    {
     "data": {
      "text/plain": [
       "dead        93\n",
       "survived     7\n",
       "Name: deadstatus.event, dtype: int64"
      ]
     },
     "execution_count": 26,
     "metadata": {},
     "output_type": "execute_result"
    }
   ],
   "source": [
    "clinical_info['deadstatus.event'].value_counts()"
   ]
  },
  {
   "cell_type": "code",
   "execution_count": 27,
   "metadata": {
    "ExecuteTime": {
     "end_time": "2021-08-16T16:10:41.679685Z",
     "start_time": "2021-08-16T16:10:41.666390Z"
    }
   },
   "outputs": [
    {
     "data": {
      "text/plain": [
       "dead        0.93\n",
       "survived    0.07\n",
       "Name: deadstatus.event, dtype: float64"
      ]
     },
     "execution_count": 27,
     "metadata": {},
     "output_type": "execute_result"
    }
   ],
   "source": [
    "clinical_info['deadstatus.event'].value_counts(normalize=True).round(2)"
   ]
  },
  {
   "cell_type": "code",
   "execution_count": 28,
   "metadata": {
    "ExecuteTime": {
     "end_time": "2021-08-16T16:10:41.831345Z",
     "start_time": "2021-08-16T16:10:41.682255Z"
    },
    "scrolled": true
   },
   "outputs": [
    {
     "data": {
      "text/plain": [
       "<AxesSubplot:xlabel='deadstatus.event', ylabel='count'>"
      ]
     },
     "execution_count": 28,
     "metadata": {},
     "output_type": "execute_result"
    },
    {
     "data": {
      "image/png": "[encoded data removed]",
      "text/plain": [
       "<Figure size 432x288 with 1 Axes>"
      ]
     },
     "metadata": {
      "needs_background": "light"
     },
     "output_type": "display_data"
    }
   ],
   "source": [
    "sns.countplot(x=\"deadstatus.event\", data=clinical_info)"
   ]
  },
  {
   "cell_type": "markdown",
   "metadata": {},
   "source": [
    "환자 사망 비율은 93%고 생존 비율은 7%로 사망 환자가 압도적으로 많다."
   ]
  },
  {
   "cell_type": "markdown",
   "metadata": {},
   "source": [
    "### two-year.survival"
   ]
  },
  {
   "cell_type": "code",
   "execution_count": 29,
   "metadata": {
    "ExecuteTime": {
     "end_time": "2021-08-16T16:10:41.847028Z",
     "start_time": "2021-08-16T16:10:41.832900Z"
    },
    "scrolled": true
   },
   "outputs": [],
   "source": [
    "year = 365\n",
    "# clinical_info[clinical_info[\"Survival.time\"] <= 2*year]"
   ]
  },
  {
   "cell_type": "code",
   "execution_count": 30,
   "metadata": {
    "ExecuteTime": {
     "end_time": "2021-08-16T16:10:41.862582Z",
     "start_time": "2021-08-16T16:10:41.849475Z"
    },
    "scrolled": false
   },
   "outputs": [],
   "source": [
    "# clinical_info[clinical_info[\"deadstatus.event\"] == 'survived']"
   ]
  },
  {
   "cell_type": "code",
   "execution_count": 31,
   "metadata": {
    "ExecuteTime": {
     "end_time": "2021-08-16T16:10:41.878178Z",
     "start_time": "2021-08-16T16:10:41.865015Z"
    }
   },
   "outputs": [],
   "source": [
    "# clinical_info[(clinical_info[\"Survival.time\"] <= 2*year) & (clinical_info[\"deadstatus.event\"] == 'survived')]"
   ]
  },
  {
   "cell_type": "code",
   "execution_count": 32,
   "metadata": {
    "ExecuteTime": {
     "end_time": "2021-08-16T16:10:41.893882Z",
     "start_time": "2021-08-16T16:10:41.879700Z"
    }
   },
   "outputs": [],
   "source": [
    "# clinical_info[clinical_info[\"Survival.time\"] <= 2*year][\"deadstatus.event\"].value_counts()"
   ]
  },
  {
   "cell_type": "code",
   "execution_count": 33,
   "metadata": {
    "ExecuteTime": {
     "end_time": "2021-08-16T16:10:41.909218Z",
     "start_time": "2021-08-16T16:10:41.895987Z"
    },
    "scrolled": true
   },
   "outputs": [
    {
     "data": {
      "text/html": [
       "<div>\n",
       "<style scoped>\n",
       "    .dataframe tbody tr th:only-of-type {\n",
       "        vertical-align: middle;\n",
       "    }\n",
       "\n",
       "    .dataframe tbody tr th {\n",
       "        vertical-align: top;\n",
       "    }\n",
       "\n",
       "    .dataframe thead th {\n",
       "        text-align: right;\n",
       "    }\n",
       "</style>\n",
       "<table border=\"1\" class=\"dataframe\">\n",
       "  <thead>\n",
       "    <tr style=\"text-align: right;\">\n",
       "      <th></th>\n",
       "      <th>Survival.time</th>\n",
       "      <th>Survival.time(year)</th>\n",
       "      <th>two-year.survival</th>\n",
       "    </tr>\n",
       "  </thead>\n",
       "  <tbody>\n",
       "    <tr>\n",
       "      <th>0</th>\n",
       "      <td>141</td>\n",
       "      <td>0</td>\n",
       "      <td>dead</td>\n",
       "    </tr>\n",
       "    <tr>\n",
       "      <th>1</th>\n",
       "      <td>353</td>\n",
       "      <td>0</td>\n",
       "      <td>dead</td>\n",
       "    </tr>\n",
       "    <tr>\n",
       "      <th>2</th>\n",
       "      <td>173</td>\n",
       "      <td>0</td>\n",
       "      <td>dead</td>\n",
       "    </tr>\n",
       "    <tr>\n",
       "      <th>3</th>\n",
       "      <td>137</td>\n",
       "      <td>0</td>\n",
       "      <td>dead</td>\n",
       "    </tr>\n",
       "    <tr>\n",
       "      <th>4</th>\n",
       "      <td>77</td>\n",
       "      <td>0</td>\n",
       "      <td>dead</td>\n",
       "    </tr>\n",
       "    <tr>\n",
       "      <th>5</th>\n",
       "      <td>131</td>\n",
       "      <td>0</td>\n",
       "      <td>dead</td>\n",
       "    </tr>\n",
       "    <tr>\n",
       "      <th>6</th>\n",
       "      <td>515</td>\n",
       "      <td>1</td>\n",
       "      <td>dead</td>\n",
       "    </tr>\n",
       "    <tr>\n",
       "      <th>7</th>\n",
       "      <td>85</td>\n",
       "      <td>0</td>\n",
       "      <td>dead</td>\n",
       "    </tr>\n",
       "    <tr>\n",
       "      <th>8</th>\n",
       "      <td>1247</td>\n",
       "      <td>3</td>\n",
       "      <td>survived</td>\n",
       "    </tr>\n",
       "    <tr>\n",
       "      <th>9</th>\n",
       "      <td>1926</td>\n",
       "      <td>5</td>\n",
       "      <td>survived</td>\n",
       "    </tr>\n",
       "  </tbody>\n",
       "</table>\n",
       "</div>"
      ],
      "text/plain": [
       "   Survival.time  Survival.time(year) two-year.survival\n",
       "0            141                    0              dead\n",
       "1            353                    0              dead\n",
       "2            173                    0              dead\n",
       "3            137                    0              dead\n",
       "4             77                    0              dead\n",
       "5            131                    0              dead\n",
       "6            515                    1              dead\n",
       "7             85                    0              dead\n",
       "8           1247                    3          survived\n",
       "9           1926                    5          survived"
      ]
     },
     "execution_count": 33,
     "metadata": {},
     "output_type": "execute_result"
    }
   ],
   "source": [
    "clinical_info[\"two-year.survival\"] = np.where((clinical_info[\"Survival.time\"] <= 2*year) & (clinical_info[\"deadstatus.event\"] == 'dead'), \"dead\", \"survived\")\n",
    "clinical_info[[\"Survival.time\", \"Survival.time(year)\", \"two-year.survival\"]].head(10)"
   ]
  },
  {
   "cell_type": "code",
   "execution_count": 34,
   "metadata": {
    "ExecuteTime": {
     "end_time": "2021-08-16T16:10:41.924937Z",
     "start_time": "2021-08-16T16:10:41.911753Z"
    },
    "scrolled": true
   },
   "outputs": [],
   "source": [
    "# clinical_info[clinical_info[\"two-year.survival\"] == \"survived\"]"
   ]
  },
  {
   "cell_type": "code",
   "execution_count": 35,
   "metadata": {
    "ExecuteTime": {
     "end_time": "2021-08-16T16:10:41.940521Z",
     "start_time": "2021-08-16T16:10:41.926391Z"
    },
    "scrolled": true
   },
   "outputs": [],
   "source": [
    "# clinical_info[clinical_info[\"two-year.survival\"] == \"dead\"]"
   ]
  },
  {
   "cell_type": "code",
   "execution_count": 36,
   "metadata": {
    "ExecuteTime": {
     "end_time": "2021-08-16T16:10:41.971700Z",
     "start_time": "2021-08-16T16:10:41.941972Z"
    }
   },
   "outputs": [
    {
     "data": {
      "text/html": [
       "<div>\n",
       "<style scoped>\n",
       "    .dataframe tbody tr th:only-of-type {\n",
       "        vertical-align: middle;\n",
       "    }\n",
       "\n",
       "    .dataframe tbody tr th {\n",
       "        vertical-align: top;\n",
       "    }\n",
       "\n",
       "    .dataframe thead th {\n",
       "        text-align: right;\n",
       "    }\n",
       "</style>\n",
       "<table border=\"1\" class=\"dataframe\">\n",
       "  <thead>\n",
       "    <tr style=\"text-align: right;\">\n",
       "      <th></th>\n",
       "      <th>PatientID</th>\n",
       "      <th>age</th>\n",
       "      <th>clinical.T.Stage</th>\n",
       "      <th>Clinical.N.Stage</th>\n",
       "      <th>Clinical.M.Stage</th>\n",
       "      <th>Overall.Stage</th>\n",
       "      <th>Histology</th>\n",
       "      <th>gender</th>\n",
       "      <th>Survival.time</th>\n",
       "      <th>deadstatus.event</th>\n",
       "      <th>Survival.time(year)</th>\n",
       "      <th>two-year.survival</th>\n",
       "    </tr>\n",
       "  </thead>\n",
       "  <tbody>\n",
       "    <tr>\n",
       "      <th>0</th>\n",
       "      <td>LUNG1-004</td>\n",
       "      <td>70</td>\n",
       "      <td>2</td>\n",
       "      <td>1</td>\n",
       "      <td>0</td>\n",
       "      <td>II</td>\n",
       "      <td>squamous cell carcinoma</td>\n",
       "      <td>male</td>\n",
       "      <td>141</td>\n",
       "      <td>dead</td>\n",
       "      <td>0</td>\n",
       "      <td>dead</td>\n",
       "    </tr>\n",
       "    <tr>\n",
       "      <th>1</th>\n",
       "      <td>LUNG1-005</td>\n",
       "      <td>80</td>\n",
       "      <td>4</td>\n",
       "      <td>2</td>\n",
       "      <td>0</td>\n",
       "      <td>IIIb</td>\n",
       "      <td>squamous cell carcinoma</td>\n",
       "      <td>male</td>\n",
       "      <td>353</td>\n",
       "      <td>dead</td>\n",
       "      <td>0</td>\n",
       "      <td>dead</td>\n",
       "    </tr>\n",
       "    <tr>\n",
       "      <th>2</th>\n",
       "      <td>LUNG1-006</td>\n",
       "      <td>73</td>\n",
       "      <td>3</td>\n",
       "      <td>1</td>\n",
       "      <td>0</td>\n",
       "      <td>IIIa</td>\n",
       "      <td>squamous cell carcinoma</td>\n",
       "      <td>male</td>\n",
       "      <td>173</td>\n",
       "      <td>dead</td>\n",
       "      <td>0</td>\n",
       "      <td>dead</td>\n",
       "    </tr>\n",
       "    <tr>\n",
       "      <th>3</th>\n",
       "      <td>LUNG1-007</td>\n",
       "      <td>81</td>\n",
       "      <td>2</td>\n",
       "      <td>2</td>\n",
       "      <td>0</td>\n",
       "      <td>IIIa</td>\n",
       "      <td>squamous cell carcinoma</td>\n",
       "      <td>male</td>\n",
       "      <td>137</td>\n",
       "      <td>dead</td>\n",
       "      <td>0</td>\n",
       "      <td>dead</td>\n",
       "    </tr>\n",
       "    <tr>\n",
       "      <th>4</th>\n",
       "      <td>LUNG1-008</td>\n",
       "      <td>71</td>\n",
       "      <td>2</td>\n",
       "      <td>2</td>\n",
       "      <td>0</td>\n",
       "      <td>IIIa</td>\n",
       "      <td>adenocarcinoma</td>\n",
       "      <td>male</td>\n",
       "      <td>77</td>\n",
       "      <td>dead</td>\n",
       "      <td>0</td>\n",
       "      <td>dead</td>\n",
       "    </tr>\n",
       "    <tr>\n",
       "      <th>5</th>\n",
       "      <td>LUNG1-009</td>\n",
       "      <td>56</td>\n",
       "      <td>2</td>\n",
       "      <td>2</td>\n",
       "      <td>0</td>\n",
       "      <td>IIIa</td>\n",
       "      <td>squamous cell carcinoma</td>\n",
       "      <td>male</td>\n",
       "      <td>131</td>\n",
       "      <td>dead</td>\n",
       "      <td>0</td>\n",
       "      <td>dead</td>\n",
       "    </tr>\n",
       "    <tr>\n",
       "      <th>6</th>\n",
       "      <td>LUNG1-011</td>\n",
       "      <td>64</td>\n",
       "      <td>4</td>\n",
       "      <td>0</td>\n",
       "      <td>0</td>\n",
       "      <td>IIIb</td>\n",
       "      <td>squamous cell carcinoma</td>\n",
       "      <td>male</td>\n",
       "      <td>515</td>\n",
       "      <td>dead</td>\n",
       "      <td>1</td>\n",
       "      <td>dead</td>\n",
       "    </tr>\n",
       "    <tr>\n",
       "      <th>7</th>\n",
       "      <td>LUNG1-012</td>\n",
       "      <td>71</td>\n",
       "      <td>3</td>\n",
       "      <td>2</td>\n",
       "      <td>0</td>\n",
       "      <td>IIIa</td>\n",
       "      <td>squamous cell carcinoma</td>\n",
       "      <td>male</td>\n",
       "      <td>85</td>\n",
       "      <td>dead</td>\n",
       "      <td>0</td>\n",
       "      <td>dead</td>\n",
       "    </tr>\n",
       "    <tr>\n",
       "      <th>8</th>\n",
       "      <td>LUNG1-014</td>\n",
       "      <td>66</td>\n",
       "      <td>4</td>\n",
       "      <td>0</td>\n",
       "      <td>0</td>\n",
       "      <td>IIIb</td>\n",
       "      <td>squamous cell carcinoma</td>\n",
       "      <td>male</td>\n",
       "      <td>1247</td>\n",
       "      <td>dead</td>\n",
       "      <td>3</td>\n",
       "      <td>survived</td>\n",
       "    </tr>\n",
       "    <tr>\n",
       "      <th>9</th>\n",
       "      <td>LUNG1-018</td>\n",
       "      <td>82</td>\n",
       "      <td>2</td>\n",
       "      <td>1</td>\n",
       "      <td>0</td>\n",
       "      <td>II</td>\n",
       "      <td>squamous cell carcinoma</td>\n",
       "      <td>male</td>\n",
       "      <td>1926</td>\n",
       "      <td>dead</td>\n",
       "      <td>5</td>\n",
       "      <td>survived</td>\n",
       "    </tr>\n",
       "  </tbody>\n",
       "</table>\n",
       "</div>"
      ],
      "text/plain": [
       "   PatientID  age clinical.T.Stage Clinical.N.Stage Clinical.M.Stage  \\\n",
       "0  LUNG1-004   70                2                1                0   \n",
       "1  LUNG1-005   80                4                2                0   \n",
       "2  LUNG1-006   73                3                1                0   \n",
       "3  LUNG1-007   81                2                2                0   \n",
       "4  LUNG1-008   71                2                2                0   \n",
       "5  LUNG1-009   56                2                2                0   \n",
       "6  LUNG1-011   64                4                0                0   \n",
       "7  LUNG1-012   71                3                2                0   \n",
       "8  LUNG1-014   66                4                0                0   \n",
       "9  LUNG1-018   82                2                1                0   \n",
       "\n",
       "  Overall.Stage                Histology gender  Survival.time  \\\n",
       "0            II  squamous cell carcinoma   male            141   \n",
       "1          IIIb  squamous cell carcinoma   male            353   \n",
       "2          IIIa  squamous cell carcinoma   male            173   \n",
       "3          IIIa  squamous cell carcinoma   male            137   \n",
       "4          IIIa           adenocarcinoma   male             77   \n",
       "5          IIIa  squamous cell carcinoma   male            131   \n",
       "6          IIIb  squamous cell carcinoma   male            515   \n",
       "7          IIIa  squamous cell carcinoma   male             85   \n",
       "8          IIIb  squamous cell carcinoma   male           1247   \n",
       "9            II  squamous cell carcinoma   male           1926   \n",
       "\n",
       "  deadstatus.event  Survival.time(year) two-year.survival  \n",
       "0             dead                    0              dead  \n",
       "1             dead                    0              dead  \n",
       "2             dead                    0              dead  \n",
       "3             dead                    0              dead  \n",
       "4             dead                    0              dead  \n",
       "5             dead                    0              dead  \n",
       "6             dead                    1              dead  \n",
       "7             dead                    0              dead  \n",
       "8             dead                    3          survived  \n",
       "9             dead                    5          survived  "
      ]
     },
     "execution_count": 36,
     "metadata": {},
     "output_type": "execute_result"
    }
   ],
   "source": [
    "clinical_info.head(10)"
   ]
  },
  {
   "cell_type": "code",
   "execution_count": 37,
   "metadata": {
    "ExecuteTime": {
     "end_time": "2021-08-16T16:10:41.987322Z",
     "start_time": "2021-08-16T16:10:41.974154Z"
    }
   },
   "outputs": [
    {
     "data": {
      "text/plain": [
       "dead        68\n",
       "survived    32\n",
       "Name: two-year.survival, dtype: int64"
      ]
     },
     "execution_count": 37,
     "metadata": {},
     "output_type": "execute_result"
    }
   ],
   "source": [
    "clinical_info[\"two-year.survival\"].value_counts()"
   ]
  },
  {
   "cell_type": "code",
   "execution_count": 38,
   "metadata": {
    "ExecuteTime": {
     "end_time": "2021-08-16T16:10:42.002608Z",
     "start_time": "2021-08-16T16:10:41.989418Z"
    }
   },
   "outputs": [
    {
     "data": {
      "text/plain": [
       "dead        0.68\n",
       "survived    0.32\n",
       "Name: two-year.survival, dtype: float64"
      ]
     },
     "execution_count": 38,
     "metadata": {},
     "output_type": "execute_result"
    }
   ],
   "source": [
    "clinical_info[\"two-year.survival\"].value_counts(normalize=True).round(2)"
   ]
  },
  {
   "cell_type": "code",
   "execution_count": 39,
   "metadata": {
    "ExecuteTime": {
     "end_time": "2021-08-16T16:10:42.173197Z",
     "start_time": "2021-08-16T16:10:42.004036Z"
    }
   },
   "outputs": [
    {
     "data": {
      "text/plain": [
       "<AxesSubplot:xlabel='two-year.survival', ylabel='count'>"
      ]
     },
     "execution_count": 39,
     "metadata": {},
     "output_type": "execute_result"
    },
    {
     "data": {
      "image/png": "[encoded data removed]",
      "text/plain": [
       "<Figure size 432x288 with 1 Axes>"
      ]
     },
     "metadata": {
      "needs_background": "light"
     },
     "output_type": "display_data"
    }
   ],
   "source": [
    "sns.countplot(x=\"two-year.survival\", data=clinical_info)"
   ]
  },
  {
   "cell_type": "markdown",
   "metadata": {},
   "source": [
    "2년 내 생존 유무(two-year survival)는 생존이 32%, 사망이 68%다."
   ]
  },
  {
   "cell_type": "code",
   "execution_count": 40,
   "metadata": {
    "ExecuteTime": {
     "end_time": "2021-08-16T16:10:42.203972Z",
     "start_time": "2021-08-16T16:10:42.174710Z"
    }
   },
   "outputs": [
    {
     "name": "stdout",
     "output_type": "stream",
     "text": [
      "<class 'pandas.core.frame.DataFrame'>\n",
      "RangeIndex: 100 entries, 0 to 99\n",
      "Data columns (total 9 columns):\n",
      " #   Column             Non-Null Count  Dtype \n",
      "---  ------             --------------  ----- \n",
      " 0   PatientID          100 non-null    object\n",
      " 1   age                100 non-null    int32 \n",
      " 2   clinical.T.Stage   100 non-null    object\n",
      " 3   Clinical.N.Stage   100 non-null    object\n",
      " 4   Clinical.M.Stage   100 non-null    object\n",
      " 5   Overall.Stage      100 non-null    object\n",
      " 6   Histology          100 non-null    object\n",
      " 7   gender             100 non-null    object\n",
      " 8   two-year.survival  100 non-null    object\n",
      "dtypes: int32(1), object(8)\n",
      "memory usage: 6.8+ KB\n"
     ]
    }
   ],
   "source": [
    "clinical_info.drop([\"Survival.time\", \"Survival.time(year)\", \"deadstatus.event\"], axis=1, inplace=True)\n",
    "clinical_info.info()"
   ]
  },
  {
   "cell_type": "markdown",
   "metadata": {},
   "source": [
    "목표변수인 two-year.survival만 남기고 Survival.time, Survival.time(year), deadstatus.event는 분석에서 제외한다."
   ]
  },
  {
   "cell_type": "markdown",
   "metadata": {},
   "source": [
    "### 설명변수"
   ]
  },
  {
   "cell_type": "code",
   "execution_count": 41,
   "metadata": {
    "ExecuteTime": {
     "end_time": "2021-08-16T16:10:42.219548Z",
     "start_time": "2021-08-16T16:10:42.205445Z"
    }
   },
   "outputs": [],
   "source": [
    "# 히스토그램을 그리는 함수 - 수치형 변수\n",
    "\n",
    "def fun_plot_hist(data, var):\n",
    "    plt.hist(data[data[\"two-year.survival\"] == \"survived\"][var], label=\"survived\", alpha=0.5, color=\"blue\")\n",
    "    plt.hist(data[data[\"two-year.survival\"] == \"dead\"][var], label=\"dead\", alpha=0.5, color=\"red\")\n",
    "    plt.legend()"
   ]
  },
  {
   "cell_type": "code",
   "execution_count": 42,
   "metadata": {
    "ExecuteTime": {
     "end_time": "2021-08-16T16:10:42.235224Z",
     "start_time": "2021-08-16T16:10:42.221051Z"
    }
   },
   "outputs": [],
   "source": [
    "# 히스토그램과 커널밀도곡선을 그리는 함수 - 수치형 변수\n",
    "# 커널밀도곡선은 히스토그램의 분포를 따라 그린 것이다.\n",
    "\n",
    "def fun_plot_hist_kde(data, var):\n",
    "    grp_col_dict = {'survived': 'blue', 'dead': 'red'}\n",
    "\n",
    "    for group in grp_col_dict:\n",
    "        subset = data[data['two-year.survival'] == group]\n",
    "        sns.distplot(subset[var], \n",
    "                        hist = True, # histogram\n",
    "                        kde = True,  # density curve\n",
    "                        color = grp_col_dict[group],\n",
    "                        label = group)\n",
    "        \n",
    "    plt.title('Histogram & Density Plot by Groups')\n",
    "    plt.xlabel(str(var))\n",
    "    plt.ylabel('Density')\n",
    "    plt.legend(prop={'size': 12}, title = 'Group')\n",
    "    plt.show()"
   ]
  },
  {
   "cell_type": "code",
   "execution_count": 43,
   "metadata": {
    "ExecuteTime": {
     "end_time": "2021-08-16T16:10:42.250778Z",
     "start_time": "2021-08-16T16:10:42.236752Z"
    }
   },
   "outputs": [],
   "source": [
    "# 막대그래프를 그리는 함수 - 범주형 변수\n",
    "\n",
    "def fun_plot_bar(data, var):\n",
    "    data_count_by_var_dead = data[data['two-year.survival'] == 'dead'].groupby(var).size()\n",
    "    data_count_by_var_survived = data[data['two-year.survival'] == 'survived'].groupby(var).size()\n",
    "\n",
    "    label = sorted(set(data[var]))\n",
    "    N = len(label)\n",
    "    index = np.arange(N)\n",
    "\n",
    "    bar_width = 0.35\n",
    "    alpha = 0.5\n",
    "\n",
    "    p1 = plt.bar(index, data_count_by_var_dead, \n",
    "                 bar_width, \n",
    "                 color='b', \n",
    "                 alpha=alpha,\n",
    "                 label='dead')\n",
    "\n",
    "    p2 = plt.bar(index + bar_width, data_count_by_var_survived, \n",
    "                 bar_width, \n",
    "                 color='r', \n",
    "                 alpha=alpha,\n",
    "                 label='survived')\n",
    "\n",
    "    plt.ylabel('count')\n",
    "    plt.xlabel(var)\n",
    "    plt.xticks(index, label)\n",
    "    plt.legend((p1[0], p2[0]), ('dead', 'survived'))\n",
    "    plt.show()"
   ]
  },
  {
   "cell_type": "code",
   "execution_count": 44,
   "metadata": {
    "ExecuteTime": {
     "end_time": "2021-08-16T16:10:42.266578Z",
     "start_time": "2021-08-16T16:10:42.252449Z"
    }
   },
   "outputs": [],
   "source": [
    "# 크로스탭을 출력하는 함수 - 범주형 변수\n",
    "\n",
    "def fun_print_crosstab(data, var):\n",
    "    print(pd.crosstab(index = data['two-year.survival'], columns=data[var]))\n",
    "    print()\n",
    "    print(pd.crosstab(index = data['two-year.survival'], columns=data[var], normalize='columns').round(3))"
   ]
  },
  {
   "cell_type": "markdown",
   "metadata": {},
   "source": [
    "#### age"
   ]
  },
  {
   "cell_type": "code",
   "execution_count": 45,
   "metadata": {
    "ExecuteTime": {
     "end_time": "2021-08-16T16:10:42.282117Z",
     "start_time": "2021-08-16T16:10:42.267992Z"
    }
   },
   "outputs": [
    {
     "data": {
      "text/plain": [
       "count    100.000000\n",
       "mean      68.780000\n",
       "std       10.003616\n",
       "min       45.000000\n",
       "25%       62.000000\n",
       "50%       69.500000\n",
       "75%       77.000000\n",
       "max       87.000000\n",
       "Name: age, dtype: float64"
      ]
     },
     "execution_count": 45,
     "metadata": {},
     "output_type": "execute_result"
    }
   ],
   "source": [
    "clinical_info['age'].describe()"
   ]
  },
  {
   "cell_type": "code",
   "execution_count": 46,
   "metadata": {
    "ExecuteTime": {
     "end_time": "2021-08-16T16:10:42.513698Z",
     "start_time": "2021-08-16T16:10:42.283706Z"
    }
   },
   "outputs": [
    {
     "data": {
      "text/plain": [
       "<AxesSubplot:xlabel='age', ylabel='Density'>"
      ]
     },
     "execution_count": 46,
     "metadata": {},
     "output_type": "execute_result"
    },
    {
     "data": {
      "image/png": "[encoded data removed]",
      "text/plain": [
       "<Figure size 432x288 with 1 Axes>"
      ]
     },
     "metadata": {
      "needs_background": "light"
     },
     "output_type": "display_data"
    }
   ],
   "source": [
    "sns.distplot(clinical_info['age'], kde=True)"
   ]
  },
  {
   "cell_type": "markdown",
   "metadata": {},
   "source": [
    "환자들의 평균 나이는 68세이고 최소 45세, 최대 87세이다. 그래프를 통해 대체로 60~87세에 분포함을 알 수 있다."
   ]
  },
  {
   "cell_type": "code",
   "execution_count": 47,
   "metadata": {
    "ExecuteTime": {
     "end_time": "2021-08-16T16:10:42.711477Z",
     "start_time": "2021-08-16T16:10:42.514769Z"
    }
   },
   "outputs": [
    {
     "data": {
      "image/png": "[encoded data removed]",
      "text/plain": [
       "<Figure size 432x288 with 1 Axes>"
      ]
     },
     "metadata": {
      "needs_background": "light"
     },
     "output_type": "display_data"
    }
   ],
   "source": [
    "fun_plot_hist(clinical_info, \"age\")"
   ]
  },
  {
   "cell_type": "markdown",
   "metadata": {},
   "source": [
    "나이(age)에 대해 2년 내 생존 환자 수와 사망 환자 수의 분포가 비슷하다."
   ]
  },
  {
   "cell_type": "code",
   "execution_count": 48,
   "metadata": {
    "ExecuteTime": {
     "end_time": "2021-08-16T16:10:43.001729Z",
     "start_time": "2021-08-16T16:10:42.712878Z"
    },
    "scrolled": true
   },
   "outputs": [
    {
     "data": {
      "image/png": "[encoded data removed]",
      "text/plain": [
       "<Figure size 432x288 with 1 Axes>"
      ]
     },
     "metadata": {
      "needs_background": "light"
     },
     "output_type": "display_data"
    }
   ],
   "source": [
    "fun_plot_hist_kde(clinical_info, \"age\")"
   ]
  },
  {
   "cell_type": "markdown",
   "metadata": {},
   "source": [
    "더 정확히 보기 위해 커널 밀도 곡선을 그려보았다. 2년 내 생존 환자의 분포와 사망 환자의 분포가 비슷함을 더욱 뚜렷하게 알 수 있다. 따라서 <U>age는 설명변수에서 제외하는 게 맞으나, 설명 변수 수가 얼마 없기 때문에 일단 제외하지 않는다.</U>"
   ]
  },
  {
   "cell_type": "markdown",
   "metadata": {},
   "source": [
    "#### clinical.T.Stage"
   ]
  },
  {
   "cell_type": "code",
   "execution_count": 49,
   "metadata": {
    "ExecuteTime": {
     "end_time": "2021-08-16T16:10:43.032292Z",
     "start_time": "2021-08-16T16:10:43.004118Z"
    }
   },
   "outputs": [
    {
     "data": {
      "text/plain": [
       "1    16\n",
       "2    42\n",
       "3    18\n",
       "4    24\n",
       "Name: clinical.T.Stage, dtype: int64"
      ]
     },
     "execution_count": 49,
     "metadata": {},
     "output_type": "execute_result"
    }
   ],
   "source": [
    "clinical_info['clinical.T.Stage'].value_counts().sort_index()"
   ]
  },
  {
   "cell_type": "code",
   "execution_count": 50,
   "metadata": {
    "ExecuteTime": {
     "end_time": "2021-08-16T16:10:43.047464Z",
     "start_time": "2021-08-16T16:10:43.034320Z"
    }
   },
   "outputs": [
    {
     "data": {
      "text/plain": [
       "1    0.16\n",
       "2    0.42\n",
       "3    0.18\n",
       "4    0.24\n",
       "Name: clinical.T.Stage, dtype: float64"
      ]
     },
     "execution_count": 50,
     "metadata": {},
     "output_type": "execute_result"
    }
   ],
   "source": [
    "clinical_info['clinical.T.Stage'].value_counts(normalize=True).sort_index().round(2)"
   ]
  },
  {
   "cell_type": "code",
   "execution_count": 51,
   "metadata": {
    "ExecuteTime": {
     "end_time": "2021-08-16T16:10:43.231551Z",
     "start_time": "2021-08-16T16:10:43.049079Z"
    }
   },
   "outputs": [
    {
     "data": {
      "text/plain": [
       "<AxesSubplot:xlabel='clinical.T.Stage', ylabel='count'>"
      ]
     },
     "execution_count": 51,
     "metadata": {},
     "output_type": "execute_result"
    },
    {
     "data": {
      "image/png": "[encoded data removed]",
      "text/plain": [
       "<Figure size 432x288 with 1 Axes>"
      ]
     },
     "metadata": {
      "needs_background": "light"
     },
     "output_type": "display_data"
    }
   ],
   "source": [
    "sns.countplot(x='clinical.T.Stage', data=clinical_info, order=clinical_info['clinical.T.Stage'].value_counts(normalize=True).sort_index().index)"
   ]
  },
  {
   "cell_type": "markdown",
   "metadata": {},
   "source": [
    "T1은 16%, T2는 42%, T3은 18%, T4는 24%다. T2가 가장 많고 그 다음으로 T4가 많다."
   ]
  },
  {
   "cell_type": "code",
   "execution_count": 52,
   "metadata": {
    "ExecuteTime": {
     "end_time": "2021-08-16T16:10:43.276725Z",
     "start_time": "2021-08-16T16:10:43.233245Z"
    }
   },
   "outputs": [
    {
     "name": "stdout",
     "output_type": "stream",
     "text": [
      "clinical.T.Stage    1   2   3   4\n",
      "two-year.survival                \n",
      "dead               10  32  13  13\n",
      "survived            6  10   5  11\n",
      "\n",
      "clinical.T.Stage       1      2      3      4\n",
      "two-year.survival                            \n",
      "dead               0.625  0.762  0.722  0.542\n",
      "survived           0.375  0.238  0.278  0.458\n"
     ]
    }
   ],
   "source": [
    "fun_print_crosstab(clinical_info, 'clinical.T.Stage')"
   ]
  },
  {
   "cell_type": "code",
   "execution_count": 53,
   "metadata": {
    "ExecuteTime": {
     "end_time": "2021-08-16T16:10:43.507584Z",
     "start_time": "2021-08-16T16:10:43.279162Z"
    }
   },
   "outputs": [
    {
     "data": {
      "image/png": "[encoded data removed]",
      "text/plain": [
       "<Figure size 432x288 with 1 Axes>"
      ]
     },
     "metadata": {
      "needs_background": "light"
     },
     "output_type": "display_data"
    }
   ],
   "source": [
    "fun_plot_bar(clinical_info, 'clinical.T.Stage')"
   ]
  },
  {
   "cell_type": "markdown",
   "metadata": {},
   "source": [
    "T1과 T3에서는 2년 내 사망 환자 수가 생존 환자 수에 2배가 되는데 반해 T2는 2년 내 사망환자 수가 생존 환자 수의 3배 가까이 된다. 이뿐만 아니라 T4는 생존 환자 수와 사망 환자 수가 유사하다. clinical.T.Stage의 단계에 따라 2년 내 생존여부에 영향을 끼치는 것으로 보이므로 <U>clinical.T.Stage를 설명변수에 포함</U>한다."
   ]
  },
  {
   "cell_type": "markdown",
   "metadata": {},
   "source": [
    "#### Clinical.N.Stage"
   ]
  },
  {
   "cell_type": "code",
   "execution_count": 54,
   "metadata": {
    "ExecuteTime": {
     "end_time": "2021-08-16T16:10:43.522892Z",
     "start_time": "2021-08-16T16:10:43.509745Z"
    }
   },
   "outputs": [
    {
     "data": {
      "text/plain": [
       "0    37\n",
       "1     9\n",
       "2    34\n",
       "3    18\n",
       "4     2\n",
       "Name: Clinical.N.Stage, dtype: int64"
      ]
     },
     "execution_count": 54,
     "metadata": {},
     "output_type": "execute_result"
    }
   ],
   "source": [
    "clinical_info['Clinical.N.Stage'].value_counts().sort_index()"
   ]
  },
  {
   "cell_type": "markdown",
   "metadata": {},
   "source": [
    "N 병기 판정에는 4가 없으므로 모두 3으로 변경해준다."
   ]
  },
  {
   "cell_type": "code",
   "execution_count": 55,
   "metadata": {
    "ExecuteTime": {
     "end_time": "2021-08-16T16:10:43.538055Z",
     "start_time": "2021-08-16T16:10:43.523949Z"
    }
   },
   "outputs": [
    {
     "data": {
      "text/plain": [
       "0    37\n",
       "1     9\n",
       "2    34\n",
       "3    20\n",
       "Name: Clinical.N.Stage, dtype: int64"
      ]
     },
     "execution_count": 55,
     "metadata": {},
     "output_type": "execute_result"
    }
   ],
   "source": [
    "clinical_info['Clinical.N.Stage'].replace('4', '3', inplace=True)\n",
    "clinical_info['Clinical.N.Stage'].value_counts().sort_index()"
   ]
  },
  {
   "cell_type": "code",
   "execution_count": 56,
   "metadata": {
    "ExecuteTime": {
     "end_time": "2021-08-16T16:10:43.553384Z",
     "start_time": "2021-08-16T16:10:43.539230Z"
    }
   },
   "outputs": [
    {
     "data": {
      "text/plain": [
       "0    0.37\n",
       "1    0.09\n",
       "2    0.34\n",
       "3    0.20\n",
       "Name: Clinical.N.Stage, dtype: float64"
      ]
     },
     "execution_count": 56,
     "metadata": {},
     "output_type": "execute_result"
    }
   ],
   "source": [
    "clinical_info['Clinical.N.Stage'].value_counts(normalize=True).sort_index().round(2)"
   ]
  },
  {
   "cell_type": "code",
   "execution_count": 57,
   "metadata": {
    "ExecuteTime": {
     "end_time": "2021-08-16T16:10:43.737867Z",
     "start_time": "2021-08-16T16:10:43.554423Z"
    }
   },
   "outputs": [
    {
     "data": {
      "text/plain": [
       "<AxesSubplot:xlabel='Clinical.N.Stage', ylabel='count'>"
      ]
     },
     "execution_count": 57,
     "metadata": {},
     "output_type": "execute_result"
    },
    {
     "data": {
      "image/png": "[encoded data removed]",
      "text/plain": [
       "<Figure size 432x288 with 1 Axes>"
      ]
     },
     "metadata": {
      "needs_background": "light"
     },
     "output_type": "display_data"
    }
   ],
   "source": [
    "sns.countplot(x='Clinical.N.Stage', data=clinical_info, order=clinical_info['Clinical.N.Stage'].value_counts(normalize=True).sort_index().index)"
   ]
  },
  {
   "cell_type": "markdown",
   "metadata": {},
   "source": [
    "N0은 37%, N1은 9%, N2는 34%, N3은 20%다. N0이 가장 많고 그 다음으로 N2가 많다. 이 둘이 전체 데이터의 71%를 차지한다."
   ]
  },
  {
   "cell_type": "code",
   "execution_count": 58,
   "metadata": {
    "ExecuteTime": {
     "end_time": "2021-08-16T16:10:43.783135Z",
     "start_time": "2021-08-16T16:10:43.740899Z"
    }
   },
   "outputs": [
    {
     "name": "stdout",
     "output_type": "stream",
     "text": [
      "Clinical.N.Stage    0  1   2   3\n",
      "two-year.survival               \n",
      "dead               24  6  25  13\n",
      "survived           13  3   9   7\n",
      "\n",
      "Clinical.N.Stage       0      1      2     3\n",
      "two-year.survival                           \n",
      "dead               0.649  0.667  0.735  0.65\n",
      "survived           0.351  0.333  0.265  0.35\n"
     ]
    }
   ],
   "source": [
    "fun_print_crosstab(clinical_info, 'Clinical.N.Stage')"
   ]
  },
  {
   "cell_type": "code",
   "execution_count": 59,
   "metadata": {
    "ExecuteTime": {
     "end_time": "2021-08-16T16:10:43.966772Z",
     "start_time": "2021-08-16T16:10:43.784240Z"
    }
   },
   "outputs": [
    {
     "data": {
      "image/png": "[encoded data removed]",
      "text/plain": [
       "<Figure size 432x288 with 1 Axes>"
      ]
     },
     "metadata": {
      "needs_background": "light"
     },
     "output_type": "display_data"
    }
   ],
   "source": [
    "fun_plot_bar(clinical_info, 'Clinical.N.Stage')"
   ]
  },
  {
   "cell_type": "markdown",
   "metadata": {},
   "source": [
    "N0, N1, N3는 2년 내 사망 환자 수가 생존 환자 수의 2배가 되는데 반해 N2는 2년 내 사망 환자 수가 생존 환자 수의 3배가 되는 점이 눈에 띈다. Clinical.N.Stage의 특정 단계가 2년 내 생존여부에 영향을 끼치는 것으로 보이므로 <U>Clinical.N.Stage를 설명변수에 포함</U>한다."
   ]
  },
  {
   "cell_type": "markdown",
   "metadata": {},
   "source": [
    "#### Clinical.M.Stage"
   ]
  },
  {
   "cell_type": "code",
   "execution_count": 60,
   "metadata": {
    "ExecuteTime": {
     "end_time": "2021-08-16T16:10:43.982229Z",
     "start_time": "2021-08-16T16:10:43.968092Z"
    }
   },
   "outputs": [
    {
     "data": {
      "text/plain": [
       "0    100\n",
       "Name: Clinical.M.Stage, dtype: int64"
      ]
     },
     "execution_count": 60,
     "metadata": {},
     "output_type": "execute_result"
    }
   ],
   "source": [
    "clinical_info['Clinical.M.Stage'].value_counts().sort_index()"
   ]
  },
  {
   "cell_type": "code",
   "execution_count": 61,
   "metadata": {
    "ExecuteTime": {
     "end_time": "2021-08-16T16:10:43.997904Z",
     "start_time": "2021-08-16T16:10:43.983787Z"
    }
   },
   "outputs": [
    {
     "data": {
      "text/plain": [
       "0    1.0\n",
       "Name: Clinical.M.Stage, dtype: float64"
      ]
     },
     "execution_count": 61,
     "metadata": {},
     "output_type": "execute_result"
    }
   ],
   "source": [
    "clinical_info['Clinical.M.Stage'].value_counts(normalize=True).sort_index().round(2)"
   ]
  },
  {
   "cell_type": "markdown",
   "metadata": {},
   "source": [
    "모든 환자가 M0이므로 <U>Clinical.M.Stage는 설명변수에서 제외</U>한다."
   ]
  },
  {
   "cell_type": "code",
   "execution_count": 62,
   "metadata": {
    "ExecuteTime": {
     "end_time": "2021-08-16T16:10:44.013546Z",
     "start_time": "2021-08-16T16:10:44.000179Z"
    }
   },
   "outputs": [
    {
     "name": "stdout",
     "output_type": "stream",
     "text": [
      "<class 'pandas.core.frame.DataFrame'>\n",
      "RangeIndex: 100 entries, 0 to 99\n",
      "Data columns (total 8 columns):\n",
      " #   Column             Non-Null Count  Dtype \n",
      "---  ------             --------------  ----- \n",
      " 0   PatientID          100 non-null    object\n",
      " 1   age                100 non-null    int32 \n",
      " 2   clinical.T.Stage   100 non-null    object\n",
      " 3   Clinical.N.Stage   100 non-null    object\n",
      " 4   Overall.Stage      100 non-null    object\n",
      " 5   Histology          100 non-null    object\n",
      " 6   gender             100 non-null    object\n",
      " 7   two-year.survival  100 non-null    object\n",
      "dtypes: int32(1), object(7)\n",
      "memory usage: 6.0+ KB\n"
     ]
    }
   ],
   "source": [
    "clinical_info.drop('Clinical.M.Stage', axis=1, inplace=True)\n",
    "clinical_info.info()"
   ]
  },
  {
   "cell_type": "markdown",
   "metadata": {},
   "source": [
    "#### Overall.Stage"
   ]
  },
  {
   "cell_type": "code",
   "execution_count": 63,
   "metadata": {
    "ExecuteTime": {
     "end_time": "2021-08-16T16:10:44.029111Z",
     "start_time": "2021-08-16T16:10:44.016052Z"
    }
   },
   "outputs": [
    {
     "data": {
      "text/plain": [
       "I       17\n",
       "II      15\n",
       "IIIa    30\n",
       "IIIb    38\n",
       "Name: Overall.Stage, dtype: int64"
      ]
     },
     "execution_count": 63,
     "metadata": {},
     "output_type": "execute_result"
    }
   ],
   "source": [
    "clinical_info['Overall.Stage'].value_counts().sort_index()"
   ]
  },
  {
   "cell_type": "code",
   "execution_count": 64,
   "metadata": {
    "ExecuteTime": {
     "end_time": "2021-08-16T16:10:44.044734Z",
     "start_time": "2021-08-16T16:10:44.032637Z"
    }
   },
   "outputs": [
    {
     "data": {
      "text/plain": [
       "I       0.17\n",
       "II      0.15\n",
       "IIIa    0.30\n",
       "IIIb    0.38\n",
       "Name: Overall.Stage, dtype: float64"
      ]
     },
     "execution_count": 64,
     "metadata": {},
     "output_type": "execute_result"
    }
   ],
   "source": [
    "clinical_info['Overall.Stage'].value_counts(normalize=True).sort_index().round(2)"
   ]
  },
  {
   "cell_type": "code",
   "execution_count": 65,
   "metadata": {
    "ExecuteTime": {
     "end_time": "2021-08-16T16:10:44.213198Z",
     "start_time": "2021-08-16T16:10:44.047214Z"
    }
   },
   "outputs": [
    {
     "data": {
      "text/plain": [
       "<AxesSubplot:xlabel='Overall.Stage', ylabel='count'>"
      ]
     },
     "execution_count": 65,
     "metadata": {},
     "output_type": "execute_result"
    },
    {
     "data": {
      "image/png": "[encoded data removed]",
      "text/plain": [
       "<Figure size 432x288 with 1 Axes>"
      ]
     },
     "metadata": {
      "needs_background": "light"
     },
     "output_type": "display_data"
    }
   ],
   "source": [
    "sns.countplot(x='Overall.Stage', data=clinical_info, order=clinical_info['Overall.Stage'].value_counts(normalize=True).sort_index().index)"
   ]
  },
  {
   "cell_type": "markdown",
   "metadata": {},
   "source": [
    "병기는 l이 17%, II가 15%, IIIa가 30%, IIIb가 38%다."
   ]
  },
  {
   "cell_type": "code",
   "execution_count": 66,
   "metadata": {
    "ExecuteTime": {
     "end_time": "2021-08-16T16:10:44.259190Z",
     "start_time": "2021-08-16T16:10:44.215219Z"
    }
   },
   "outputs": [
    {
     "name": "stdout",
     "output_type": "stream",
     "text": [
      "Overall.Stage       I  II  IIIa  IIIb\n",
      "two-year.survival                    \n",
      "dead               13  10    23    22\n",
      "survived            4   5     7    16\n",
      "\n",
      "Overall.Stage          I     II   IIIa   IIIb\n",
      "two-year.survival                            \n",
      "dead               0.765  0.667  0.767  0.579\n",
      "survived           0.235  0.333  0.233  0.421\n"
     ]
    }
   ],
   "source": [
    "fun_print_crosstab(clinical_info, 'Overall.Stage')"
   ]
  },
  {
   "cell_type": "code",
   "execution_count": 67,
   "metadata": {
    "ExecuteTime": {
     "end_time": "2021-08-16T16:10:44.457589Z",
     "start_time": "2021-08-16T16:10:44.265683Z"
    },
    "scrolled": true
   },
   "outputs": [
    {
     "data": {
      "image/png": "[encoded data removed]",
      "text/plain": [
       "<Figure size 432x288 with 1 Axes>"
      ]
     },
     "metadata": {
      "needs_background": "light"
     },
     "output_type": "display_data"
    }
   ],
   "source": [
    "fun_plot_bar(clinical_info, 'Overall.Stage')"
   ]
  },
  {
   "cell_type": "markdown",
   "metadata": {},
   "source": [
    "대체로 최종 병기가 높아질수록 사망환자 수가 증가함을 보인다. I와 IIIa의 경우 2년 내 사망 환자 수가 생존 환자 수의 3배이고, II는 2배인데 반해 IIIb는 2배가 채 되지 않는다. Overall.Stage의 특정 단계가 2년 내 생존여부에 영향을 끼치는 것으로 보이므로 <U>Overall.Stage를 설명변수에 포함</U>한다."
   ]
  },
  {
   "cell_type": "markdown",
   "metadata": {},
   "source": [
    "#### Histology"
   ]
  },
  {
   "cell_type": "code",
   "execution_count": 68,
   "metadata": {
    "ExecuteTime": {
     "end_time": "2021-08-16T16:10:44.472679Z",
     "start_time": "2021-08-16T16:10:44.459547Z"
    }
   },
   "outputs": [
    {
     "name": "stdout",
     "output_type": "stream",
     "text": [
      "<class 'pandas.core.frame.DataFrame'>\n",
      "RangeIndex: 100 entries, 0 to 99\n",
      "Data columns (total 7 columns):\n",
      " #   Column             Non-Null Count  Dtype \n",
      "---  ------             --------------  ----- \n",
      " 0   PatientID          100 non-null    object\n",
      " 1   age                100 non-null    int32 \n",
      " 2   clinical.T.Stage   100 non-null    object\n",
      " 3   Clinical.N.Stage   100 non-null    object\n",
      " 4   Overall.Stage      100 non-null    object\n",
      " 5   gender             100 non-null    object\n",
      " 6   two-year.survival  100 non-null    object\n",
      "dtypes: int32(1), object(6)\n",
      "memory usage: 5.2+ KB\n"
     ]
    }
   ],
   "source": [
    "clinical_info.drop(\"Histology\", axis=1, inplace=True)\n",
    "clinical_info.info()"
   ]
  },
  {
   "cell_type": "markdown",
   "metadata": {},
   "source": [
    "Histology는 폐암의 종류이기 때문에 목표 변수를 예측할 수 없으므로 <U>Histology는 설명 변수에서 제외</U>한다."
   ]
  },
  {
   "cell_type": "markdown",
   "metadata": {},
   "source": [
    "#### gender"
   ]
  },
  {
   "cell_type": "code",
   "execution_count": 69,
   "metadata": {
    "ExecuteTime": {
     "end_time": "2021-08-16T16:10:44.488273Z",
     "start_time": "2021-08-16T16:10:44.474133Z"
    }
   },
   "outputs": [
    {
     "data": {
      "text/plain": [
       "male      76\n",
       "female    24\n",
       "Name: gender, dtype: int64"
      ]
     },
     "execution_count": 69,
     "metadata": {},
     "output_type": "execute_result"
    }
   ],
   "source": [
    "clinical_info['gender'].value_counts()"
   ]
  },
  {
   "cell_type": "code",
   "execution_count": 70,
   "metadata": {
    "ExecuteTime": {
     "end_time": "2021-08-16T16:10:44.503893Z",
     "start_time": "2021-08-16T16:10:44.490733Z"
    }
   },
   "outputs": [
    {
     "data": {
      "text/plain": [
       "male      0.76\n",
       "female    0.24\n",
       "Name: gender, dtype: float64"
      ]
     },
     "execution_count": 70,
     "metadata": {},
     "output_type": "execute_result"
    }
   ],
   "source": [
    "clinical_info['gender'].value_counts(normalize=True).round(2)"
   ]
  },
  {
   "cell_type": "code",
   "execution_count": 71,
   "metadata": {
    "ExecuteTime": {
     "end_time": "2021-08-16T16:10:44.657352Z",
     "start_time": "2021-08-16T16:10:44.505379Z"
    }
   },
   "outputs": [
    {
     "data": {
      "text/plain": [
       "<AxesSubplot:xlabel='gender', ylabel='count'>"
      ]
     },
     "execution_count": 71,
     "metadata": {},
     "output_type": "execute_result"
    },
    {
     "data": {
      "image/png": "[encoded data removed]",
      "text/plain": [
       "<Figure size 432x288 with 1 Axes>"
      ]
     },
     "metadata": {
      "needs_background": "light"
     },
     "output_type": "display_data"
    }
   ],
   "source": [
    "sns.countplot(x='gender', data=clinical_info)"
   ]
  },
  {
   "cell_type": "markdown",
   "metadata": {},
   "source": [
    "남성 환자가 76%, 여성 환자가 24%로 남성 환자가 여성 환자의 3배 가까이 된다."
   ]
  },
  {
   "cell_type": "code",
   "execution_count": 72,
   "metadata": {
    "ExecuteTime": {
     "end_time": "2021-08-16T16:10:44.703879Z",
     "start_time": "2021-08-16T16:10:44.659490Z"
    }
   },
   "outputs": [
    {
     "name": "stdout",
     "output_type": "stream",
     "text": [
      "gender             female  male\n",
      "two-year.survival              \n",
      "dead                   14    54\n",
      "survived               10    22\n",
      "\n",
      "gender             female   male\n",
      "two-year.survival               \n",
      "dead                0.583  0.711\n",
      "survived            0.417  0.289\n"
     ]
    }
   ],
   "source": [
    "fun_print_crosstab(clinical_info, 'gender')"
   ]
  },
  {
   "cell_type": "code",
   "execution_count": 73,
   "metadata": {
    "ExecuteTime": {
     "end_time": "2021-08-16T16:10:44.857191Z",
     "start_time": "2021-08-16T16:10:44.706850Z"
    }
   },
   "outputs": [
    {
     "data": {
      "image/png": "[encoded data removed]",
      "text/plain": [
       "<Figure size 432x288 with 1 Axes>"
      ]
     },
     "metadata": {
      "needs_background": "light"
     },
     "output_type": "display_data"
    }
   ],
   "source": [
    "fun_plot_bar(clinical_info, 'gender')"
   ]
  },
  {
   "cell_type": "markdown",
   "metadata": {},
   "source": [
    "남성의 경우 2년 내 사망 환자 수가 생존 환자 수의 2배가 넘는다. 반면에 여성은 뚜렷하게 차이가 나지 않는다. 특정 성별이 2년 내 생존 여부에 크게 영향을 미치는 것으로 보이므로 <U>gender를 설명변수에 포함한다.</U>"
   ]
  },
  {
   "cell_type": "markdown",
   "metadata": {
    "colab_type": "text",
    "id": "3A8q_KV3cMyw"
   },
   "source": [
    "## 3. 변수들의 결측 및 이상치 처리"
   ]
  },
  {
   "cell_type": "code",
   "execution_count": 74,
   "metadata": {
    "ExecuteTime": {
     "end_time": "2021-08-16T16:10:44.872604Z",
     "start_time": "2021-08-16T16:10:44.859288Z"
    },
    "colab": {
     "base_uri": "https://localhost:8080/",
     "height": 272
    },
    "colab_type": "code",
    "executionInfo": {
     "elapsed": 577,
     "status": "ok",
     "timestamp": 1594481682702,
     "user": {
      "displayName": "이지현",
      "photoUrl": "",
      "userId": "05076428626224035015"
     },
     "user_tz": -540
    },
    "id": "Hh9pSNzLcMys",
    "outputId": "376a3b85-beaa-4bb5-e7dc-92dc01c17eae"
   },
   "outputs": [
    {
     "data": {
      "text/plain": [
       "PatientID            0\n",
       "age                  0\n",
       "clinical.T.Stage     0\n",
       "Clinical.N.Stage     0\n",
       "Overall.Stage        0\n",
       "gender               0\n",
       "two-year.survival    0\n",
       "dtype: int64"
      ]
     },
     "execution_count": 74,
     "metadata": {},
     "output_type": "execute_result"
    }
   ],
   "source": [
    "clinical_info.isnull().sum()"
   ]
  },
  {
   "cell_type": "markdown",
   "metadata": {},
   "source": [
    "결측치는 없다."
   ]
  },
  {
   "cell_type": "code",
   "execution_count": 75,
   "metadata": {
    "ExecuteTime": {
     "end_time": "2021-08-16T16:10:45.023076Z",
     "start_time": "2021-08-16T16:10:44.874978Z"
    },
    "colab": {
     "base_uri": "https://localhost:8080/",
     "height": 880
    },
    "colab_type": "code",
    "executionInfo": {
     "elapsed": 858,
     "status": "ok",
     "timestamp": 1594481684950,
     "user": {
      "displayName": "이지현",
      "photoUrl": "",
      "userId": "05076428626224035015"
     },
     "user_tz": -540
    },
    "id": "-RcaExq8cMyx",
    "outputId": "0e484ceb-eb2d-4528-e3ce-dc20dabfe26f",
    "scrolled": false
   },
   "outputs": [
    {
     "data": {
      "text/plain": [
       "<AxesSubplot:>"
      ]
     },
     "execution_count": 75,
     "metadata": {},
     "output_type": "execute_result"
    },
    {
     "data": {
      "image/png": "[encoded data removed]",
      "text/plain": [
       "<Figure size 432x288 with 1 Axes>"
      ]
     },
     "metadata": {
      "needs_background": "light"
     },
     "output_type": "display_data"
    }
   ],
   "source": [
    "clinical_info.boxplot()"
   ]
  },
  {
   "cell_type": "code",
   "execution_count": 76,
   "metadata": {
    "ExecuteTime": {
     "end_time": "2021-08-16T16:10:45.037835Z",
     "start_time": "2021-08-16T16:10:45.024346Z"
    },
    "colab": {},
    "colab_type": "code",
    "id": "j4lcm3c1cMy1"
   },
   "outputs": [],
   "source": [
    "def countOutliers(x, column):\n",
    "    q1 = x[column].quantile(0.25)\n",
    "    q3 = x[column].quantile(0.75)\n",
    "    \n",
    "    iqr = 1.5 * (q3 - q1)\n",
    "\n",
    "    lenOutliers = len(x[column][(x[column] > (q3 + iqr)) | (x[column] < (q1 - iqr))])\n",
    "    \n",
    "    return lenOutliers"
   ]
  },
  {
   "cell_type": "code",
   "execution_count": 77,
   "metadata": {
    "ExecuteTime": {
     "end_time": "2021-08-16T16:10:45.052506Z",
     "start_time": "2021-08-16T16:10:45.039468Z"
    },
    "colab": {
     "base_uri": "https://localhost:8080/",
     "height": 204
    },
    "colab_type": "code",
    "executionInfo": {
     "elapsed": 398,
     "status": "ok",
     "timestamp": 1594481689808,
     "user": {
      "displayName": "이지현",
      "photoUrl": "",
      "userId": "05076428626224035015"
     },
     "user_tz": -540
    },
    "id": "wNMRJK8EcMy5",
    "outputId": "d55a1c87-464c-4cf0-f5a7-d3356947a530",
    "scrolled": false
   },
   "outputs": [
    {
     "data": {
      "text/plain": [
       "0"
      ]
     },
     "execution_count": 77,
     "metadata": {},
     "output_type": "execute_result"
    }
   ],
   "source": [
    "countOutliers(clinical_info, 'age')"
   ]
  },
  {
   "cell_type": "markdown",
   "metadata": {},
   "source": [
    "이상치도 없다."
   ]
  },
  {
   "cell_type": "code",
   "execution_count": 78,
   "metadata": {
    "ExecuteTime": {
     "end_time": "2021-08-16T16:10:45.067744Z",
     "start_time": "2021-08-16T16:10:45.054712Z"
    }
   },
   "outputs": [],
   "source": [
    "clinical_info.to_csv(\"clinical_info.csv\", index=False)"
   ]
  },
  {
   "cell_type": "markdown",
   "metadata": {},
   "source": [
    "최종 데이터를 clinical_info.csv로 저장했다."
   ]
  }
 ],
 "metadata": {
  "colab": {
   "collapsed_sections": [],
   "name": "Boston.ipynb",
   "provenance": []
  },
  "kernelspec": {
   "display_name": "Python 3 (ipykernel)",
   "language": "python",
   "name": "python3"
  },
  "language_info": {
   "codemirror_mode": {
    "name": "ipython",
    "version": 3
   },
   "file_extension": ".py",
   "mimetype": "text/x-python",
   "name": "python",
   "nbconvert_exporter": "python",
   "pygments_lexer": "ipython3",
   "version": "3.8.5"
  },
  "toc": {
   "base_numbering": 1,
   "nav_menu": {},
   "number_sections": false,
   "sideBar": true,
   "skip_h1_title": false,
   "title_cell": "Table of Contents",
   "title_sidebar": "Contents",
   "toc_cell": false,
   "toc_position": {
    "height": "calc(100% - 180px)",
    "left": "10px",
    "top": "150px",
    "width": "270.567px"
   },
   "toc_section_display": true,
   "toc_window_display": false
  }
 },
 "nbformat": 4,
 "nbformat_minor": 1
}
