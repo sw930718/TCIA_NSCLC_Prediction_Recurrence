{
 "cells": [
  {
   "cell_type": "code",
   "execution_count": 1,
   "metadata": {
    "ExecuteTime": {
     "end_time": "2021-08-16T16:11:00.038913Z",
     "start_time": "2021-08-16T16:10:58.483075Z"
    },
    "colab": {},
    "colab_type": "code",
    "id": "nNU4pviIcMyX"
   },
   "outputs": [],
   "source": [
    "import pandas as pd\n",
    "from statsmodels.api import Logit"
   ]
  },
  {
   "cell_type": "markdown",
   "metadata": {
    "colab_type": "text",
    "id": "peEMm7O6cMzP"
   },
   "source": [
    "# Feature Selection"
   ]
  },
  {
   "cell_type": "code",
   "execution_count": 2,
   "metadata": {
    "ExecuteTime": {
     "end_time": "2021-08-16T16:11:00.069412Z",
     "start_time": "2021-08-16T16:11:00.040435Z"
    }
   },
   "outputs": [
    {
     "data": {
      "text/html": [
       "<div>\n",
       "<style scoped>\n",
       "    .dataframe tbody tr th:only-of-type {\n",
       "        vertical-align: middle;\n",
       "    }\n",
       "\n",
       "    .dataframe tbody tr th {\n",
       "        vertical-align: top;\n",
       "    }\n",
       "\n",
       "    .dataframe thead th {\n",
       "        text-align: right;\n",
       "    }\n",
       "</style>\n",
       "<table border=\"1\" class=\"dataframe\">\n",
       "  <thead>\n",
       "    <tr style=\"text-align: right;\">\n",
       "      <th></th>\n",
       "      <th>PatientID</th>\n",
       "      <th>age</th>\n",
       "      <th>clinical.T.Stage</th>\n",
       "      <th>Clinical.N.Stage</th>\n",
       "      <th>Overall.Stage</th>\n",
       "      <th>gender</th>\n",
       "      <th>two-year.survival</th>\n",
       "    </tr>\n",
       "  </thead>\n",
       "  <tbody>\n",
       "    <tr>\n",
       "      <th>0</th>\n",
       "      <td>004</td>\n",
       "      <td>70</td>\n",
       "      <td>2</td>\n",
       "      <td>1</td>\n",
       "      <td>II</td>\n",
       "      <td>male</td>\n",
       "      <td>dead</td>\n",
       "    </tr>\n",
       "    <tr>\n",
       "      <th>1</th>\n",
       "      <td>005</td>\n",
       "      <td>80</td>\n",
       "      <td>4</td>\n",
       "      <td>2</td>\n",
       "      <td>IIIb</td>\n",
       "      <td>male</td>\n",
       "      <td>dead</td>\n",
       "    </tr>\n",
       "    <tr>\n",
       "      <th>2</th>\n",
       "      <td>006</td>\n",
       "      <td>73</td>\n",
       "      <td>3</td>\n",
       "      <td>1</td>\n",
       "      <td>IIIa</td>\n",
       "      <td>male</td>\n",
       "      <td>dead</td>\n",
       "    </tr>\n",
       "    <tr>\n",
       "      <th>3</th>\n",
       "      <td>007</td>\n",
       "      <td>81</td>\n",
       "      <td>2</td>\n",
       "      <td>2</td>\n",
       "      <td>IIIa</td>\n",
       "      <td>male</td>\n",
       "      <td>dead</td>\n",
       "    </tr>\n",
       "    <tr>\n",
       "      <th>4</th>\n",
       "      <td>008</td>\n",
       "      <td>71</td>\n",
       "      <td>2</td>\n",
       "      <td>2</td>\n",
       "      <td>IIIa</td>\n",
       "      <td>male</td>\n",
       "      <td>dead</td>\n",
       "    </tr>\n",
       "  </tbody>\n",
       "</table>\n",
       "</div>"
      ],
      "text/plain": [
       "  PatientID  age  clinical.T.Stage  Clinical.N.Stage Overall.Stage gender  \\\n",
       "0       004   70                 2                 1            II   male   \n",
       "1       005   80                 4                 2          IIIb   male   \n",
       "2       006   73                 3                 1          IIIa   male   \n",
       "3       007   81                 2                 2          IIIa   male   \n",
       "4       008   71                 2                 2          IIIa   male   \n",
       "\n",
       "  two-year.survival  \n",
       "0              dead  \n",
       "1              dead  \n",
       "2              dead  \n",
       "3              dead  \n",
       "4              dead  "
      ]
     },
     "execution_count": 2,
     "metadata": {},
     "output_type": "execute_result"
    }
   ],
   "source": [
    "clinical_info = pd.read_csv(\"clinical_info.csv\")\n",
    "clinical_info['PatientID']=clinical_info['PatientID'].str.slice(start=-3)\n",
    "clinical_info.head()"
   ]
  },
  {
   "cell_type": "code",
   "execution_count": 3,
   "metadata": {
    "ExecuteTime": {
     "end_time": "2021-08-16T16:11:00.085114Z",
     "start_time": "2021-08-16T16:11:00.071818Z"
    }
   },
   "outputs": [],
   "source": [
    "# clinical_info['clinical.T.Stage'] = clinical_info['clinical.T.Stage'].astype(str)\n",
    "# clinical_info['Clinical.N.Stage'] = clinical_info['Clinical.N.Stage'].astype(str)\n",
    "# clinical_info.info()"
   ]
  },
  {
   "cell_type": "markdown",
   "metadata": {},
   "source": [
    "clinical.T.Stage, Clinical.N.Stage는 TNM 분류 체계를 뜻하는 순서형 데이터로 범주형 변수인데 수치형으로 되어 있으므로 범주형으로 변환해준다."
   ]
  },
  {
   "cell_type": "code",
   "execution_count": 3,
   "metadata": {
    "ExecuteTime": {
     "end_time": "2021-08-16T16:11:00.100994Z",
     "start_time": "2021-08-16T16:11:00.086639Z"
    }
   },
   "outputs": [
    {
     "data": {
      "text/plain": [
       "1    17\n",
       "2    15\n",
       "3    30\n",
       "4    38\n",
       "Name: Overall.Stage, dtype: int64"
      ]
     },
     "execution_count": 3,
     "metadata": {},
     "output_type": "execute_result"
    }
   ],
   "source": [
    "clinical_info['Overall.Stage'] = clinical_info['Overall.Stage'].map({\"I\":1, \"II\":2, \"IIIa\":3, \"IIIb\":4})\n",
    "clinical_info['Overall.Stage'].value_counts().sort_index()"
   ]
  },
  {
   "cell_type": "markdown",
   "metadata": {},
   "source": [
    "Overall.Stage는 I, II, IIIa, IIIb로 갈수록 생존율이 낮으므로, 1, 2, 3, 4로 mapping해준다."
   ]
  },
  {
   "cell_type": "code",
   "execution_count": 4,
   "metadata": {
    "ExecuteTime": {
     "end_time": "2021-08-16T16:11:00.116584Z",
     "start_time": "2021-08-16T16:11:00.103484Z"
    }
   },
   "outputs": [
    {
     "data": {
      "text/plain": [
       "0    68\n",
       "1    32\n",
       "Name: two-year.survival, dtype: int64"
      ]
     },
     "execution_count": 4,
     "metadata": {},
     "output_type": "execute_result"
    }
   ],
   "source": [
    "clinical_info['two-year.survival'] = clinical_info['two-year.survival'].map({\"dead\":0, \"survived\":1})\n",
    "clinical_info['two-year.survival'].value_counts()"
   ]
  },
  {
   "cell_type": "markdown",
   "metadata": {},
   "source": [
    "목표변수인 two-year.survival은 2년 내 생존여부이다. 따라서 생존(survived)는 1, 사망(dead)는 0으로 mapping한다."
   ]
  },
  {
   "cell_type": "code",
   "execution_count": 5,
   "metadata": {
    "ExecuteTime": {
     "end_time": "2021-08-16T16:11:00.132284Z",
     "start_time": "2021-08-16T16:11:00.120140Z"
    }
   },
   "outputs": [
    {
     "data": {
      "text/plain": [
       "Index(['PatientID', 'age', 'clinical.T.Stage', 'Clinical.N.Stage',\n",
       "       'Overall.Stage', 'gender', 'two-year.survival'],\n",
       "      dtype='object')"
      ]
     },
     "execution_count": 5,
     "metadata": {},
     "output_type": "execute_result"
    }
   ],
   "source": [
    "clinical_info.columns"
   ]
  },
  {
   "cell_type": "code",
   "execution_count": 6,
   "metadata": {
    "ExecuteTime": {
     "end_time": "2021-08-16T16:11:00.147594Z",
     "start_time": "2021-08-16T16:11:00.137457Z"
    }
   },
   "outputs": [
    {
     "data": {
      "text/plain": [
       "Index(['PatientID', 'age', 'clinical_T_Stage', 'Clinical_N_Stage',\n",
       "       'Overall_Stage', 'gender', 'two_year_survival'],\n",
       "      dtype='object')"
      ]
     },
     "execution_count": 6,
     "metadata": {},
     "output_type": "execute_result"
    }
   ],
   "source": [
    "clinical_info.columns = ['PatientID', 'age', 'clinical_T_Stage', 'Clinical_N_Stage', 'Overall_Stage', 'gender', 'two_year_survival']\n",
    "clinical_info.columns"
   ]
  },
  {
   "cell_type": "markdown",
   "metadata": {},
   "source": [
    "회귀분석 시 변수명에 .이 있으면 안되므로 _로 바꿔준다."
   ]
  },
  {
   "cell_type": "code",
   "execution_count": 7,
   "metadata": {
    "ExecuteTime": {
     "end_time": "2021-08-16T16:11:00.177854Z",
     "start_time": "2021-08-16T16:11:00.151636Z"
    }
   },
   "outputs": [
    {
     "name": "stdout",
     "output_type": "stream",
     "text": [
      "<class 'pandas.core.frame.DataFrame'>\n",
      "RangeIndex: 100 entries, 0 to 99\n",
      "Data columns (total 7 columns):\n",
      " #   Column             Non-Null Count  Dtype \n",
      "---  ------             --------------  ----- \n",
      " 0   PatientID          100 non-null    object\n",
      " 1   age                100 non-null    int64 \n",
      " 2   clinical_T_Stage   100 non-null    int64 \n",
      " 3   Clinical_N_Stage   100 non-null    int64 \n",
      " 4   Overall_Stage      100 non-null    int64 \n",
      " 5   gender             100 non-null    object\n",
      " 6   two_year_survival  100 non-null    int64 \n",
      "dtypes: int64(5), object(2)\n",
      "memory usage: 5.6+ KB\n"
     ]
    }
   ],
   "source": [
    "clinical_info.info()"
   ]
  },
  {
   "cell_type": "markdown",
   "metadata": {},
   "source": [
    "## CASE 1) age, clinical.T.Stage, Clinical.N.Stage, gender"
   ]
  },
  {
   "cell_type": "code",
   "execution_count": 8,
   "metadata": {
    "ExecuteTime": {
     "end_time": "2021-08-16T16:11:00.208326Z",
     "start_time": "2021-08-16T16:11:00.180360Z"
    }
   },
   "outputs": [
    {
     "name": "stdout",
     "output_type": "stream",
     "text": [
      "<class 'pandas.core.frame.DataFrame'>\n",
      "RangeIndex: 100 entries, 0 to 99\n",
      "Data columns (total 6 columns):\n",
      " #   Column             Non-Null Count  Dtype \n",
      "---  ------             --------------  ----- \n",
      " 0   PatientID          100 non-null    object\n",
      " 1   age                100 non-null    int64 \n",
      " 2   clinical_T_Stage   100 non-null    int64 \n",
      " 3   Clinical_N_Stage   100 non-null    int64 \n",
      " 4   gender             100 non-null    object\n",
      " 5   two_year_survival  100 non-null    int64 \n",
      "dtypes: int64(4), object(2)\n",
      "memory usage: 4.8+ KB\n"
     ]
    }
   ],
   "source": [
    "clinical_info_case1 = clinical_info.drop(\"Overall_Stage\", axis=1)\n",
    "clinical_info_case1.info()"
   ]
  },
  {
   "cell_type": "markdown",
   "metadata": {},
   "source": [
    "case 1의 경우 age와 T, N, gender로만 분석할 예정이므로 나머지 설명변수는 분석에서 제외한다."
   ]
  },
  {
   "cell_type": "code",
   "execution_count": 9,
   "metadata": {
    "ExecuteTime": {
     "end_time": "2021-08-16T16:11:00.269763Z",
     "start_time": "2021-08-16T16:11:00.209707Z"
    }
   },
   "outputs": [
    {
     "name": "stdout",
     "output_type": "stream",
     "text": [
      "Optimization terminated successfully.\n",
      "         Current function value: 0.605220\n",
      "         Iterations 5\n",
      "                           Logit Regression Results                           \n",
      "==============================================================================\n",
      "Dep. Variable:      two_year_survival   No. Observations:                  100\n",
      "Model:                          Logit   Df Residuals:                       95\n",
      "Method:                           MLE   Df Model:                            4\n",
      "Date:                Fri, 14 Jan 2022   Pseudo R-squ.:                 0.03454\n",
      "Time:                        21:47:10   Log-Likelihood:                -60.522\n",
      "converged:                       True   LL-Null:                       -62.687\n",
      "Covariance Type:            nonrobust   LLR p-value:                    0.3632\n",
      "=====================================================================================\n",
      "                        coef    std err          z      P>|z|      [0.025      0.975]\n",
      "-------------------------------------------------------------------------------------\n",
      "Intercept             1.3969      2.052      0.681      0.496      -2.626       5.420\n",
      "C(gender)[T.male]    -0.6062      0.508     -1.192      0.233      -1.603       0.390\n",
      "age                  -0.0284      0.025     -1.133      0.257      -0.078       0.021\n",
      "clinical_T_Stage      0.1918      0.223      0.861      0.389      -0.245       0.628\n",
      "Clinical_N_Stage     -0.1824      0.207     -0.883      0.377      -0.587       0.223\n",
      "=====================================================================================\n"
     ]
    }
   ],
   "source": [
    "log_model = Logit.from_formula(\"\"\"two_year_survival ~ age + clinical_T_Stage + Clinical_N_Stage + C(gender)\"\"\", clinical_info_case1)\n",
    "log_result = log_model.fit()\n",
    "print(log_result.summary())"
   ]
  },
  {
   "cell_type": "code",
   "execution_count": 10,
   "metadata": {
    "ExecuteTime": {
     "end_time": "2021-08-16T16:11:00.284773Z",
     "start_time": "2021-08-16T16:11:00.271763Z"
    }
   },
   "outputs": [
    {
     "data": {
      "text/plain": [
       "Intercept            0.496141\n",
       "C(gender)[T.male]    0.233228\n",
       "age                  0.257422\n",
       "clinical_T_Stage     0.389106\n",
       "Clinical_N_Stage     0.377412\n",
       "dtype: float64"
      ]
     },
     "execution_count": 10,
     "metadata": {},
     "output_type": "execute_result"
    }
   ],
   "source": [
    "log_result.pvalues"
   ]
  },
  {
   "cell_type": "markdown",
   "metadata": {},
   "source": [
    "회귀계수 검정 결과 유의수준 0.1에서 유의한 변수는 없다. 유의수준 0.3에서 유의한 변수는 gender이고, 0.4에서 유의한 변수는 clinical_T_Stage, Clinical_N_Stage, gender, age다. 즉, featrue selection 결과 모든 변수가 선택되었다. 참고로 gender가 female인 경우가 없는 이유는 female 대비 male 비율이 회귀계수로 추정되었기 때문이다."
   ]
  },
  {
   "cell_type": "code",
   "execution_count": 11,
   "metadata": {
    "ExecuteTime": {
     "end_time": "2021-08-16T16:11:00.299587Z",
     "start_time": "2021-08-16T16:11:00.286291Z"
    }
   },
   "outputs": [],
   "source": [
    "clinical_info_case1.to_csv(\"clinical_info_case1.csv\", index=False)"
   ]
  },
  {
   "cell_type": "markdown",
   "metadata": {},
   "source": [
    "case 1의 clinical information을 저장한다."
   ]
  },
  {
   "cell_type": "markdown",
   "metadata": {},
   "source": [
    "## CASE 2) age, Overall.Stage, gender"
   ]
  },
  {
   "cell_type": "code",
   "execution_count": 12,
   "metadata": {
    "ExecuteTime": {
     "end_time": "2021-08-16T16:11:00.315254Z",
     "start_time": "2021-08-16T16:11:00.302171Z"
    }
   },
   "outputs": [
    {
     "name": "stdout",
     "output_type": "stream",
     "text": [
      "<class 'pandas.core.frame.DataFrame'>\n",
      "RangeIndex: 100 entries, 0 to 99\n",
      "Data columns (total 7 columns):\n",
      " #   Column             Non-Null Count  Dtype \n",
      "---  ------             --------------  ----- \n",
      " 0   PatientID          100 non-null    object\n",
      " 1   age                100 non-null    int64 \n",
      " 2   clinical_T_Stage   100 non-null    int64 \n",
      " 3   Clinical_N_Stage   100 non-null    int64 \n",
      " 4   Overall_Stage      100 non-null    int64 \n",
      " 5   gender             100 non-null    object\n",
      " 6   two_year_survival  100 non-null    int64 \n",
      "dtypes: int64(5), object(2)\n",
      "memory usage: 5.6+ KB\n"
     ]
    }
   ],
   "source": [
    "clinical_info.info()"
   ]
  },
  {
   "cell_type": "code",
   "execution_count": 13,
   "metadata": {
    "ExecuteTime": {
     "end_time": "2021-08-16T16:11:00.345589Z",
     "start_time": "2021-08-16T16:11:00.318298Z"
    }
   },
   "outputs": [
    {
     "name": "stdout",
     "output_type": "stream",
     "text": [
      "<class 'pandas.core.frame.DataFrame'>\n",
      "RangeIndex: 100 entries, 0 to 99\n",
      "Data columns (total 5 columns):\n",
      " #   Column             Non-Null Count  Dtype \n",
      "---  ------             --------------  ----- \n",
      " 0   PatientID          100 non-null    object\n",
      " 1   age                100 non-null    int64 \n",
      " 2   Overall_Stage      100 non-null    int64 \n",
      " 3   gender             100 non-null    object\n",
      " 4   two_year_survival  100 non-null    int64 \n",
      "dtypes: int64(3), object(2)\n",
      "memory usage: 4.0+ KB\n"
     ]
    }
   ],
   "source": [
    "clinical_info_case2 = clinical_info.drop([\"clinical_T_Stage\", \"Clinical_N_Stage\"], axis=1)\n",
    "clinical_info_case2.info()"
   ]
  },
  {
   "cell_type": "markdown",
   "metadata": {},
   "source": [
    "case 2의 경우 age, Overall.Stage, gender로만 분석할 예정이므로 나머지 설명변수는 분석에서 제외한다."
   ]
  },
  {
   "cell_type": "code",
   "execution_count": 14,
   "metadata": {
    "ExecuteTime": {
     "end_time": "2021-08-16T16:11:00.391072Z",
     "start_time": "2021-08-16T16:11:00.347106Z"
    }
   },
   "outputs": [
    {
     "name": "stdout",
     "output_type": "stream",
     "text": [
      "Optimization terminated successfully.\n",
      "         Current function value: 0.609668\n",
      "         Iterations 5\n",
      "                           Logit Regression Results                           \n",
      "==============================================================================\n",
      "Dep. Variable:      two_year_survival   No. Observations:                  100\n",
      "Model:                          Logit   Df Residuals:                       96\n",
      "Method:                           MLE   Df Model:                            3\n",
      "Date:                Fri, 14 Jan 2022   Pseudo R-squ.:                 0.02744\n",
      "Time:                        21:49:18   Log-Likelihood:                -60.967\n",
      "converged:                       True   LL-Null:                       -62.687\n",
      "Covariance Type:            nonrobust   LLR p-value:                    0.3286\n",
      "=====================================================================================\n",
      "                        coef    std err          z      P>|z|      [0.025      0.975]\n",
      "-------------------------------------------------------------------------------------\n",
      "Intercept            -0.0002      2.041     -0.000      1.000      -4.000       3.999\n",
      "C(gender)[T.male]    -0.5398      0.499     -1.082      0.279      -1.517       0.438\n",
      "age                  -0.0144      0.025     -0.583      0.560      -0.063       0.034\n",
      "Overall_Stage         0.2138      0.230      0.931      0.352      -0.236       0.664\n",
      "=====================================================================================\n"
     ]
    }
   ],
   "source": [
    "log_model = Logit.from_formula(\"\"\"two_year_survival ~ age + Overall_Stage + C(gender)\"\"\", clinical_info_case2)\n",
    "log_result = log_model.fit()\n",
    "print(log_result.summary())"
   ]
  },
  {
   "cell_type": "code",
   "execution_count": 15,
   "metadata": {
    "ExecuteTime": {
     "end_time": "2021-08-16T16:11:00.405871Z",
     "start_time": "2021-08-16T16:11:00.394164Z"
    }
   },
   "outputs": [
    {
     "data": {
      "text/plain": [
       "Intercept            0.999912\n",
       "C(gender)[T.male]    0.279172\n",
       "age                  0.559588\n",
       "Overall_Stage        0.351708\n",
       "dtype: float64"
      ]
     },
     "execution_count": 15,
     "metadata": {},
     "output_type": "execute_result"
    }
   ],
   "source": [
    "log_result.pvalues"
   ]
  },
  {
   "cell_type": "markdown",
   "metadata": {},
   "source": [
    "이 데이터의 전체 자료 수는 100개, 잔차 자유도는 96, 모델 자유도는 3이다. 이 모델의 설명력은 2.7%이다. 회귀계수 검정 결과 유의수준 0.1에서 유의한 변수는 없다. 유의수준 0.3에서 유의한 변수는 gender고, 0.5에서 유의한 변수는 gender와 Overall_Stage이다. 즉, feature selection 결과 age를 제외한 gender와 Overall_Stage가 선택되었다."
   ]
  },
  {
   "cell_type": "code",
   "execution_count": 16,
   "metadata": {
    "ExecuteTime": {
     "end_time": "2021-08-16T16:11:00.436509Z",
     "start_time": "2021-08-16T16:11:00.408683Z"
    }
   },
   "outputs": [
    {
     "name": "stdout",
     "output_type": "stream",
     "text": [
      "<class 'pandas.core.frame.DataFrame'>\n",
      "RangeIndex: 100 entries, 0 to 99\n",
      "Data columns (total 4 columns):\n",
      " #   Column             Non-Null Count  Dtype \n",
      "---  ------             --------------  ----- \n",
      " 0   PatientID          100 non-null    object\n",
      " 1   Overall_Stage      100 non-null    int64 \n",
      " 2   gender             100 non-null    object\n",
      " 3   two_year_survival  100 non-null    int64 \n",
      "dtypes: int64(2), object(2)\n",
      "memory usage: 3.2+ KB\n"
     ]
    }
   ],
   "source": [
    "clinical_info_case2.drop(\"age\", axis=1, inplace=True)\n",
    "clinical_info_case2.info()"
   ]
  },
  {
   "cell_type": "code",
   "execution_count": 17,
   "metadata": {
    "ExecuteTime": {
     "end_time": "2021-08-16T16:11:00.452231Z",
     "start_time": "2021-08-16T16:11:00.438540Z"
    }
   },
   "outputs": [],
   "source": [
    "clinical_info_case2.to_csv(\"clinical_info_case2.csv\", index=False)"
   ]
  },
  {
   "cell_type": "markdown",
   "metadata": {},
   "source": [
    "case 2의 clinical information을 저장한다."
   ]
  }
 ],
 "metadata": {
  "colab": {
   "collapsed_sections": [],
   "name": "Boston.ipynb",
   "provenance": []
  },
  "kernelspec": {
   "display_name": "Python 3 (ipykernel)",
   "language": "python",
   "name": "python3"
  },
  "language_info": {
   "codemirror_mode": {
    "name": "ipython",
    "version": 3
   },
   "file_extension": ".py",
   "mimetype": "text/x-python",
   "name": "python",
   "nbconvert_exporter": "python",
   "pygments_lexer": "ipython3",
   "version": "3.8.5"
  },
  "toc": {
   "base_numbering": 1,
   "nav_menu": {},
   "number_sections": false,
   "sideBar": true,
   "skip_h1_title": false,
   "title_cell": "Table of Contents",
   "title_sidebar": "Contents",
   "toc_cell": false,
   "toc_position": {
    "height": "calc(100% - 180px)",
    "left": "10px",
    "top": "150px",
    "width": "270.562px"
   },
   "toc_section_display": true,
   "toc_window_display": false
  }
 },
 "nbformat": 4,
 "nbformat_minor": 1
}
