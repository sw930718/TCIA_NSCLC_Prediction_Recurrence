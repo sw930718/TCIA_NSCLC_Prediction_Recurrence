{
 "cells": [
  {
   "cell_type": "code",
   "execution_count": 7,
   "metadata": {
    "ExecuteTime": {
     "end_time": "2021-08-16T16:11:15.178123Z",
     "start_time": "2021-08-16T16:11:13.176373Z"
    },
    "colab": {},
    "colab_type": "code",
    "id": "nNU4pviIcMyX"
   },
   "outputs": [],
   "source": [
    "import pandas as pd\n",
    "from sklearn.preprocessing import StandardScaler\n",
    "from sklearn.model_selection import train_test_split\n",
    "from statsmodels.api import Logit\n",
    "from sklearn.linear_model import LogisticRegression\n",
    "from sklearn.metrics import confusion_matrix\n",
    "from sklearn.metrics import accuracy_score"
   ]
  },
  {
   "cell_type": "markdown",
   "metadata": {},
   "source": [
    "# Logistic Regression"
   ]
  },
  {
   "cell_type": "code",
   "execution_count": 8,
   "metadata": {
    "ExecuteTime": {
     "end_time": "2021-08-16T16:11:15.208811Z",
     "start_time": "2021-08-16T16:11:15.180610Z"
    }
   },
   "outputs": [
    {
     "data": {
      "text/html": [
       "<div>\n",
       "<style scoped>\n",
       "    .dataframe tbody tr th:only-of-type {\n",
       "        vertical-align: middle;\n",
       "    }\n",
       "\n",
       "    .dataframe tbody tr th {\n",
       "        vertical-align: top;\n",
       "    }\n",
       "\n",
       "    .dataframe thead th {\n",
       "        text-align: right;\n",
       "    }\n",
       "</style>\n",
       "<table border=\"1\" class=\"dataframe\">\n",
       "  <thead>\n",
       "    <tr style=\"text-align: right;\">\n",
       "      <th></th>\n",
       "      <th>PatientID</th>\n",
       "      <th>age</th>\n",
       "      <th>clinical.T.Stage</th>\n",
       "      <th>Clinical.N.Stage</th>\n",
       "      <th>Overall.Stage</th>\n",
       "      <th>gender</th>\n",
       "      <th>two-year.survival</th>\n",
       "    </tr>\n",
       "  </thead>\n",
       "  <tbody>\n",
       "    <tr>\n",
       "      <th>0</th>\n",
       "      <td>004</td>\n",
       "      <td>70</td>\n",
       "      <td>2</td>\n",
       "      <td>1</td>\n",
       "      <td>II</td>\n",
       "      <td>male</td>\n",
       "      <td>dead</td>\n",
       "    </tr>\n",
       "    <tr>\n",
       "      <th>1</th>\n",
       "      <td>005</td>\n",
       "      <td>80</td>\n",
       "      <td>4</td>\n",
       "      <td>2</td>\n",
       "      <td>IIIb</td>\n",
       "      <td>male</td>\n",
       "      <td>dead</td>\n",
       "    </tr>\n",
       "    <tr>\n",
       "      <th>2</th>\n",
       "      <td>006</td>\n",
       "      <td>73</td>\n",
       "      <td>3</td>\n",
       "      <td>1</td>\n",
       "      <td>IIIa</td>\n",
       "      <td>male</td>\n",
       "      <td>dead</td>\n",
       "    </tr>\n",
       "    <tr>\n",
       "      <th>3</th>\n",
       "      <td>007</td>\n",
       "      <td>81</td>\n",
       "      <td>2</td>\n",
       "      <td>2</td>\n",
       "      <td>IIIa</td>\n",
       "      <td>male</td>\n",
       "      <td>dead</td>\n",
       "    </tr>\n",
       "    <tr>\n",
       "      <th>4</th>\n",
       "      <td>008</td>\n",
       "      <td>71</td>\n",
       "      <td>2</td>\n",
       "      <td>2</td>\n",
       "      <td>IIIa</td>\n",
       "      <td>male</td>\n",
       "      <td>dead</td>\n",
       "    </tr>\n",
       "  </tbody>\n",
       "</table>\n",
       "</div>"
      ],
      "text/plain": [
       "  PatientID  age  clinical.T.Stage  Clinical.N.Stage Overall.Stage gender  \\\n",
       "0       004   70                 2                 1            II   male   \n",
       "1       005   80                 4                 2          IIIb   male   \n",
       "2       006   73                 3                 1          IIIa   male   \n",
       "3       007   81                 2                 2          IIIa   male   \n",
       "4       008   71                 2                 2          IIIa   male   \n",
       "\n",
       "  two-year.survival  \n",
       "0              dead  \n",
       "1              dead  \n",
       "2              dead  \n",
       "3              dead  \n",
       "4              dead  "
      ]
     },
     "execution_count": 8,
     "metadata": {},
     "output_type": "execute_result"
    }
   ],
   "source": [
    "clinical_info = pd.read_csv(\"clinical_info.csv\")\n",
    "clinical_info['PatientID']=clinical_info['PatientID'].str.slice(start=-3)\n",
    "clinical_info.head()"
   ]
  },
  {
   "cell_type": "code",
   "execution_count": 9,
   "metadata": {
    "ExecuteTime": {
     "end_time": "2021-08-16T16:11:15.239476Z",
     "start_time": "2021-08-16T16:11:15.210342Z"
    }
   },
   "outputs": [
    {
     "name": "stdout",
     "output_type": "stream",
     "text": [
      "<class 'pandas.core.frame.DataFrame'>\n",
      "RangeIndex: 100 entries, 0 to 99\n",
      "Data columns (total 7 columns):\n",
      " #   Column             Non-Null Count  Dtype \n",
      "---  ------             --------------  ----- \n",
      " 0   PatientID          100 non-null    object\n",
      " 1   age                100 non-null    int64 \n",
      " 2   clinical.T.Stage   100 non-null    int64 \n",
      " 3   Clinical.N.Stage   100 non-null    int64 \n",
      " 4   Overall.Stage      100 non-null    object\n",
      " 5   gender             100 non-null    object\n",
      " 6   two-year.survival  100 non-null    object\n",
      "dtypes: int64(3), object(4)\n",
      "memory usage: 5.6+ KB\n"
     ]
    }
   ],
   "source": [
    "clinical_info.info()"
   ]
  },
  {
   "cell_type": "code",
   "execution_count": 10,
   "metadata": {
    "ExecuteTime": {
     "end_time": "2021-08-16T16:11:15.254670Z",
     "start_time": "2021-08-16T16:11:15.240583Z"
    },
    "scrolled": true
   },
   "outputs": [
    {
     "data": {
      "text/plain": [
       "1    17\n",
       "2    15\n",
       "3    30\n",
       "4    38\n",
       "Name: Overall.Stage, dtype: int64"
      ]
     },
     "execution_count": 10,
     "metadata": {},
     "output_type": "execute_result"
    }
   ],
   "source": [
    "clinical_info['Overall.Stage'] = clinical_info['Overall.Stage'].map({\"I\":1, \"II\":2, \"IIIa\":3, \"IIIb\":4})\n",
    "clinical_info['Overall.Stage'].value_counts().sort_index()"
   ]
  },
  {
   "cell_type": "markdown",
   "metadata": {},
   "source": [
    "Overall.Stage는 I, II, IIIa, IIIb로 갈수록 생존율이 낮으므로, 1, 2, 3, 4로 mapping해준다."
   ]
  },
  {
   "cell_type": "code",
   "execution_count": 11,
   "metadata": {},
   "outputs": [
    {
     "data": {
      "text/plain": [
       "0    24\n",
       "1    76\n",
       "Name: gender, dtype: int64"
      ]
     },
     "execution_count": 11,
     "metadata": {},
     "output_type": "execute_result"
    }
   ],
   "source": [
    "clinical_info['gender'] = clinical_info['gender'].map({\"male\":1, \"female\":0})\n",
    "clinical_info['gender'].value_counts().sort_index()"
   ]
  },
  {
   "cell_type": "markdown",
   "metadata": {},
   "source": [
    "gender도 0, 1로 mapping 해준다"
   ]
  },
  {
   "cell_type": "code",
   "execution_count": 12,
   "metadata": {
    "ExecuteTime": {
     "end_time": "2021-08-16T16:11:15.270047Z",
     "start_time": "2021-08-16T16:11:15.256933Z"
    }
   },
   "outputs": [
    {
     "data": {
      "text/plain": [
       "1    68\n",
       "0    32\n",
       "Name: two-year.survival, dtype: int64"
      ]
     },
     "execution_count": 12,
     "metadata": {},
     "output_type": "execute_result"
    }
   ],
   "source": [
    "clinical_info['two-year.survival'] = clinical_info['two-year.survival'].map({\"dead\":1, \"survived\":0})\n",
    "clinical_info['two-year.survival'].value_counts()"
   ]
  },
  {
   "cell_type": "markdown",
   "metadata": {},
   "source": [
    "목표변수인 two-year.survival은 2년 내 재발유무이다. 따라서 사망(dead)은 1, 생존(survived)은 0으로 mapping한다."
   ]
  },
  {
   "cell_type": "code",
   "execution_count": 13,
   "metadata": {
    "ExecuteTime": {
     "end_time": "2021-08-16T16:11:15.285647Z",
     "start_time": "2021-08-16T16:11:15.272621Z"
    }
   },
   "outputs": [
    {
     "data": {
      "text/plain": [
       "Index(['PatientID', 'age', 'clinical.T.Stage', 'Clinical.N.Stage',\n",
       "       'Overall.Stage', 'gender', 'two-year.survival'],\n",
       "      dtype='object')"
      ]
     },
     "execution_count": 13,
     "metadata": {},
     "output_type": "execute_result"
    }
   ],
   "source": [
    "clinical_info.columns"
   ]
  },
  {
   "cell_type": "code",
   "execution_count": 14,
   "metadata": {
    "ExecuteTime": {
     "end_time": "2021-08-16T16:11:15.301263Z",
     "start_time": "2021-08-16T16:11:15.289640Z"
    }
   },
   "outputs": [
    {
     "data": {
      "text/plain": [
       "Index(['PatientID', 'age', 'clinical_T_Stage', 'Clinical_N_Stage',\n",
       "       'Overall_Stage', 'gender', 'two_year_survival'],\n",
       "      dtype='object')"
      ]
     },
     "execution_count": 14,
     "metadata": {},
     "output_type": "execute_result"
    }
   ],
   "source": [
    "clinical_info.columns = ['PatientID', 'age', 'clinical_T_Stage', 'Clinical_N_Stage', 'Overall_Stage', 'gender', 'two_year_survival']\n",
    "clinical_info.columns"
   ]
  },
  {
   "cell_type": "markdown",
   "metadata": {},
   "source": [
    "회귀분석 시 변수명에 .이 있으면 안되므로 _로 바꿔준다."
   ]
  },
  {
   "cell_type": "code",
   "execution_count": 15,
   "metadata": {
    "ExecuteTime": {
     "end_time": "2021-08-16T16:11:15.331973Z",
     "start_time": "2021-08-16T16:11:15.303628Z"
    }
   },
   "outputs": [
    {
     "name": "stdout",
     "output_type": "stream",
     "text": [
      "<class 'pandas.core.frame.DataFrame'>\n",
      "RangeIndex: 100 entries, 0 to 99\n",
      "Data columns (total 7 columns):\n",
      " #   Column             Non-Null Count  Dtype \n",
      "---  ------             --------------  ----- \n",
      " 0   PatientID          100 non-null    object\n",
      " 1   age                100 non-null    int64 \n",
      " 2   clinical_T_Stage   100 non-null    int64 \n",
      " 3   Clinical_N_Stage   100 non-null    int64 \n",
      " 4   Overall_Stage      100 non-null    int64 \n",
      " 5   gender             100 non-null    int64 \n",
      " 6   two_year_survival  100 non-null    int64 \n",
      "dtypes: int64(6), object(1)\n",
      "memory usage: 5.6+ KB\n"
     ]
    }
   ],
   "source": [
    "clinical_info.info()"
   ]
  },
  {
   "cell_type": "code",
   "execution_count": 16,
   "metadata": {},
   "outputs": [],
   "source": [
    "df=pd.read_csv('./label.csv',sep=',')\n",
    "df=pd.DataFrame(df[['PatientID']])\n",
    "df['PatientID']=df['PatientID'].str.slice(start=-3)"
   ]
  },
  {
   "cell_type": "code",
   "execution_count": 17,
   "metadata": {},
   "outputs": [],
   "source": [
    "training_data = df.sample(frac=0.8, random_state=42)\n",
    "testing_data = df.drop(training_data.index)"
   ]
  },
  {
   "cell_type": "code",
   "execution_count": 18,
   "metadata": {},
   "outputs": [],
   "source": [
    "clinical_info_train=pd.merge(training_data,clinical_info,on='PatientID')\n",
    "clinical_info_test=pd.merge(testing_data,clinical_info,on='PatientID')"
   ]
  },
  {
   "cell_type": "markdown",
   "metadata": {},
   "source": [
    "train 데이터와 test 데이터를 8:2 비율로 분할한다."
   ]
  },
  {
   "cell_type": "code",
   "execution_count": 19,
   "metadata": {
    "ExecuteTime": {
     "end_time": "2021-08-16T16:11:15.379409Z",
     "start_time": "2021-08-16T16:11:15.367010Z"
    }
   },
   "outputs": [
    {
     "data": {
      "text/plain": [
       "0    250\n",
       "1    131\n",
       "2    200\n",
       "3    114\n",
       "4    109\n",
       "Name: PatientID, dtype: object"
      ]
     },
     "execution_count": 19,
     "metadata": {},
     "output_type": "execute_result"
    }
   ],
   "source": [
    "clinical_info_train['PatientID'].head()"
   ]
  },
  {
   "cell_type": "code",
   "execution_count": 20,
   "metadata": {
    "ExecuteTime": {
     "end_time": "2021-08-16T16:11:15.394913Z",
     "start_time": "2021-08-16T16:11:15.383809Z"
    }
   },
   "outputs": [
    {
     "data": {
      "text/plain": [
       "0    005\n",
       "1    006\n",
       "2    030\n",
       "3    042\n",
       "4    045\n",
       "Name: PatientID, dtype: object"
      ]
     },
     "execution_count": 20,
     "metadata": {},
     "output_type": "execute_result"
    }
   ],
   "source": [
    "clinical_info_test['PatientID'].head()"
   ]
  },
  {
   "cell_type": "markdown",
   "metadata": {},
   "source": [
    "## CASE 1) age, clinical.T.Stage, Clinical.N.Stage, gender"
   ]
  },
  {
   "cell_type": "code",
   "execution_count": 21,
   "metadata": {
    "ExecuteTime": {
     "end_time": "2021-08-16T16:11:15.425063Z",
     "start_time": "2021-08-16T16:11:15.397975Z"
    }
   },
   "outputs": [
    {
     "name": "stdout",
     "output_type": "stream",
     "text": [
      "<class 'pandas.core.frame.DataFrame'>\n",
      "Int64Index: 80 entries, 0 to 79\n",
      "Data columns (total 6 columns):\n",
      " #   Column             Non-Null Count  Dtype \n",
      "---  ------             --------------  ----- \n",
      " 0   PatientID          80 non-null     object\n",
      " 1   age                80 non-null     int64 \n",
      " 2   clinical_T_Stage   80 non-null     int64 \n",
      " 3   Clinical_N_Stage   80 non-null     int64 \n",
      " 4   gender             80 non-null     int64 \n",
      " 5   two_year_survival  80 non-null     int64 \n",
      "dtypes: int64(5), object(1)\n",
      "memory usage: 4.4+ KB\n"
     ]
    }
   ],
   "source": [
    "clinical_info_case1_train = clinical_info_train.drop(\"Overall_Stage\", axis=1)\n",
    "clinical_info_case1_test = clinical_info_test.drop(\"Overall_Stage\", axis=1)\n",
    "clinical_info_case1_train.info()"
   ]
  },
  {
   "cell_type": "markdown",
   "metadata": {},
   "source": [
    "case 1의 경우 age와 T, N, gender로만 분석할 예정이므로 나머지 설명변수는 분석에서 제외한다."
   ]
  },
  {
   "cell_type": "code",
   "execution_count": 22,
   "metadata": {
    "ExecuteTime": {
     "end_time": "2021-08-16T16:11:15.439523Z",
     "start_time": "2021-08-16T16:11:15.427590Z"
    }
   },
   "outputs": [],
   "source": [
    "clinical_info_case1_train.to_csv(\"clinical_info_case1_train.csv\", index=False)\n",
    "clinical_info_case1_test.to_csv(\"clinical_info_case1_test.csv\", index=False)"
   ]
  },
  {
   "cell_type": "markdown",
   "metadata": {},
   "source": [
    "흉부영상 CT 데이터와 PatientID를 맞추기 위해 train 데이터와 test 데이터를 따로 저장한다."
   ]
  },
  {
   "cell_type": "code",
   "execution_count": 23,
   "metadata": {
    "ExecuteTime": {
     "end_time": "2021-08-16T16:11:15.501303Z",
     "start_time": "2021-08-16T16:11:15.441503Z"
    }
   },
   "outputs": [
    {
     "name": "stdout",
     "output_type": "stream",
     "text": [
      "Optimization terminated successfully.\n",
      "         Current function value: 0.594579\n",
      "         Iterations 5\n",
      "                           Logit Regression Results                           \n",
      "==============================================================================\n",
      "Dep. Variable:      two_year_survival   No. Observations:                   80\n",
      "Model:                          Logit   Df Residuals:                       75\n",
      "Method:                           MLE   Df Model:                            4\n",
      "Date:                Tue, 25 Jan 2022   Pseudo R-squ.:                 0.04268\n",
      "Time:                        00:04:18   Log-Likelihood:                -47.566\n",
      "converged:                       True   LL-Null:                       -49.687\n",
      "Covariance Type:            nonrobust   LLR p-value:                    0.3744\n",
      "====================================================================================\n",
      "                       coef    std err          z      P>|z|      [0.025      0.975]\n",
      "------------------------------------------------------------------------------------\n",
      "Intercept            0.2599      2.478      0.105      0.916      -4.597       5.117\n",
      "age                  0.0126      0.030      0.419      0.675      -0.046       0.072\n",
      "clinical_T_Stage    -0.3999      0.263     -1.521      0.128      -0.915       0.115\n",
      "Clinical_N_Stage     0.1408      0.230      0.611      0.541      -0.311       0.593\n",
      "gender               0.5917      0.595      0.995      0.320      -0.574       1.757\n",
      "====================================================================================\n"
     ]
    }
   ],
   "source": [
    "log_model = Logit.from_formula(\"\"\"two_year_survival ~ age + clinical_T_Stage + Clinical_N_Stage + gender\"\"\", clinical_info_case1_train)\n",
    "log_result = log_model.fit()\n",
    "print(log_result.summary())"
   ]
  },
  {
   "cell_type": "code",
   "execution_count": 24,
   "metadata": {
    "ExecuteTime": {
     "end_time": "2021-08-16T16:11:15.532645Z",
     "start_time": "2021-08-16T16:11:15.504083Z"
    }
   },
   "outputs": [
    {
     "data": {
      "text/plain": [
       "0    1\n",
       "1    1\n",
       "2    1\n",
       "3    1\n",
       "4    1\n",
       "dtype: int64"
      ]
     },
     "execution_count": 24,
     "metadata": {},
     "output_type": "execute_result"
    }
   ],
   "source": [
    "y_pred = log_result.predict(clinical_info_case1_test[['age','clinical_T_Stage','Clinical_N_Stage','gender']])\n",
    "\n",
    "y_pred_class = (y_pred > 0.5).astype(int)\n",
    "y_pred_class.head()"
   ]
  },
  {
   "cell_type": "code",
   "execution_count": 25,
   "metadata": {
    "ExecuteTime": {
     "end_time": "2021-08-16T16:11:15.548364Z",
     "start_time": "2021-08-16T16:11:15.534667Z"
    },
    "scrolled": true
   },
   "outputs": [
    {
     "name": "stdout",
     "output_type": "stream",
     "text": [
      "Accuracy: 0.600\n",
      "\n",
      "Confusion Matrix: \n",
      "[[ 1  6]\n",
      " [ 2 11]]\n"
     ]
    }
   ],
   "source": [
    "print(\"Accuracy: {0:.3f}\\n\".format(accuracy_score(clinical_info_case1_test['two_year_survival'], y_pred_class)))\n",
    "print(\"Confusion Matrix: \\n{}\".format(confusion_matrix(clinical_info_case1_test['two_year_survival'], y_pred_class)))"
   ]
  },
  {
   "cell_type": "markdown",
   "metadata": {},
   "source": [
    "모델의 정분류율은 60.0%이다."
   ]
  },
  {
   "cell_type": "markdown",
   "metadata": {},
   "source": [
    "## CASE 2) age, Overall.Stage, gender"
   ]
  },
  {
   "cell_type": "code",
   "execution_count": 26,
   "metadata": {
    "ExecuteTime": {
     "end_time": "2021-08-16T16:11:15.578706Z",
     "start_time": "2021-08-16T16:11:15.551503Z"
    }
   },
   "outputs": [
    {
     "name": "stdout",
     "output_type": "stream",
     "text": [
      "<class 'pandas.core.frame.DataFrame'>\n",
      "Int64Index: 80 entries, 0 to 79\n",
      "Data columns (total 5 columns):\n",
      " #   Column             Non-Null Count  Dtype \n",
      "---  ------             --------------  ----- \n",
      " 0   PatientID          80 non-null     object\n",
      " 1   age                80 non-null     int64 \n",
      " 2   Overall_Stage      80 non-null     int64 \n",
      " 3   gender             80 non-null     int64 \n",
      " 4   two_year_survival  80 non-null     int64 \n",
      "dtypes: int64(4), object(1)\n",
      "memory usage: 3.8+ KB\n"
     ]
    }
   ],
   "source": [
    "clinical_info_case2_train = clinical_info_train.drop([\"clinical_T_Stage\", \"Clinical_N_Stage\"], axis=1)\n",
    "clinical_info_case2_test = clinical_info_test.drop([\"clinical_T_Stage\", \"Clinical_N_Stage\"], axis=1)\n",
    "clinical_info_case2_train.info()"
   ]
  },
  {
   "cell_type": "markdown",
   "metadata": {},
   "source": [
    "case 2의 경우 age, Overall.Stage, gender로만 분석할 예정이므로 나머지 설명변수는 분석에서 제외한다."
   ]
  },
  {
   "cell_type": "code",
   "execution_count": 27,
   "metadata": {
    "ExecuteTime": {
     "end_time": "2021-08-16T16:11:15.593912Z",
     "start_time": "2021-08-16T16:11:15.582334Z"
    }
   },
   "outputs": [],
   "source": [
    "clinical_info_case2_train.to_csv(\"clinical_info_case2_train.csv\", index=False)\n",
    "clinical_info_case2_test.to_csv(\"clinical_info_case2_test.csv\", index=False)"
   ]
  },
  {
   "cell_type": "markdown",
   "metadata": {},
   "source": [
    "흉부영상 CT 데이터와 PatientID를 맞추기 위해 train 데이터와 test 데이터를 따로 저장한다."
   ]
  },
  {
   "cell_type": "code",
   "execution_count": 28,
   "metadata": {
    "ExecuteTime": {
     "end_time": "2021-08-16T16:11:15.639390Z",
     "start_time": "2021-08-16T16:11:15.597693Z"
    }
   },
   "outputs": [
    {
     "name": "stdout",
     "output_type": "stream",
     "text": [
      "Optimization terminated successfully.\n",
      "         Current function value: 0.596005\n",
      "         Iterations 5\n",
      "                           Logit Regression Results                           \n",
      "==============================================================================\n",
      "Dep. Variable:      two_year_survival   No. Observations:                   80\n",
      "Model:                          Logit   Df Residuals:                       76\n",
      "Method:                           MLE   Df Model:                            3\n",
      "Date:                Tue, 25 Jan 2022   Pseudo R-squ.:                 0.04038\n",
      "Time:                        00:04:26   Log-Likelihood:                -47.680\n",
      "converged:                       True   LL-Null:                       -49.687\n",
      "Covariance Type:            nonrobust   LLR p-value:                    0.2601\n",
      "=================================================================================\n",
      "                    coef    std err          z      P>|z|      [0.025      0.975]\n",
      "---------------------------------------------------------------------------------\n",
      "Intercept         2.1235      2.624      0.809      0.418      -3.019       7.266\n",
      "age              -0.0058      0.031     -0.185      0.853      -0.067       0.055\n",
      "Overall_Stage    -0.4515      0.280     -1.610      0.107      -1.001       0.098\n",
      "gender            0.5064      0.584      0.868      0.386      -0.637       1.650\n",
      "=================================================================================\n"
     ]
    }
   ],
   "source": [
    "log_model = Logit.from_formula(\"\"\"two_year_survival ~ age + Overall_Stage + gender\"\"\", clinical_info_case2_train)\n",
    "log_result = log_model.fit()\n",
    "print(log_result.summary())"
   ]
  },
  {
   "cell_type": "code",
   "execution_count": 29,
   "metadata": {
    "ExecuteTime": {
     "end_time": "2021-08-16T16:11:15.669227Z",
     "start_time": "2021-08-16T16:11:15.642199Z"
    }
   },
   "outputs": [
    {
     "data": {
      "text/plain": [
       "0    1\n",
       "1    1\n",
       "2    1\n",
       "3    1\n",
       "4    1\n",
       "dtype: int64"
      ]
     },
     "execution_count": 29,
     "metadata": {},
     "output_type": "execute_result"
    }
   ],
   "source": [
    "y_pred = log_result.predict(clinical_info_case2_test[['age','Overall_Stage','gender']])\n",
    "\n",
    "y_pred_class = (y_pred > 0.5).astype(int)\n",
    "y_pred_class.head()"
   ]
  },
  {
   "cell_type": "code",
   "execution_count": 30,
   "metadata": {
    "ExecuteTime": {
     "end_time": "2021-08-16T16:11:15.684372Z",
     "start_time": "2021-08-16T16:11:15.673683Z"
    }
   },
   "outputs": [
    {
     "name": "stdout",
     "output_type": "stream",
     "text": [
      "Accuracy: 0.650\n",
      "\n",
      "Confusion Matrix: \n",
      "[[ 1  6]\n",
      " [ 1 12]]\n"
     ]
    }
   ],
   "source": [
    "print(\"Accuracy: {0:.3f}\\n\".format(accuracy_score(clinical_info_case2_test['two_year_survival'], y_pred_class)))\n",
    "print(\"Confusion Matrix: \\n{}\".format(confusion_matrix(clinical_info_case2_test['two_year_survival'], y_pred_class)))"
   ]
  },
  {
   "cell_type": "markdown",
   "metadata": {},
   "source": [
    "모델의 정분류율은 65.0%이다."
   ]
  }
 ],
 "metadata": {
  "colab": {
   "collapsed_sections": [],
   "name": "Boston.ipynb",
   "provenance": []
  },
  "kernelspec": {
   "display_name": "Python 3 (ipykernel)",
   "language": "python",
   "name": "python3"
  },
  "language_info": {
   "codemirror_mode": {
    "name": "ipython",
    "version": 3
   },
   "file_extension": ".py",
   "mimetype": "text/x-python",
   "name": "python",
   "nbconvert_exporter": "python",
   "pygments_lexer": "ipython3",
   "version": "3.8.5"
  },
  "toc": {
   "base_numbering": 1,
   "nav_menu": {},
   "number_sections": false,
   "sideBar": true,
   "skip_h1_title": false,
   "title_cell": "Table of Contents",
   "title_sidebar": "Contents",
   "toc_cell": false,
   "toc_position": {
    "height": "calc(100% - 180px)",
    "left": "10px",
    "top": "150px",
    "width": "270.542px"
   },
   "toc_section_display": true,
   "toc_window_display": false
  }
 },
 "nbformat": 4,
 "nbformat_minor": 1
}
